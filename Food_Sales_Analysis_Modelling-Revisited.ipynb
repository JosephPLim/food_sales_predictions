{
 "cells": [
  {
   "cell_type": "markdown",
   "metadata": {
    "colab_type": "text",
    "id": "view-in-github"
   },
   "source": [
    "<a href=\"https://colab.research.google.com/github/JosephPLim/food_sales_predictions/blob/main/Food_Sales_AnalysisII.ipynb\" target=\"_parent\"><img src=\"https://colab.research.google.com/assets/colab-badge.svg\" alt=\"Open In Colab\"/></a>"
   ]
  },
  {
   "cell_type": "markdown",
   "metadata": {
    "id": "zKfkXq7yuCvw"
   },
   "source": [
    "# <center>Food Sales Analysis Modeling Revisited </center>\n",
    "\n",
    "Joseph Lim\n",
    "\n"
   ]
  },
  {
   "cell_type": "code",
   "execution_count": 1,
   "metadata": {
    "colab": {
     "base_uri": "https://localhost:8080/"
    },
    "id": "-PPRy-PCuR23",
    "outputId": "e3425c2b-05ef-41d3-c5e3-52271bd58deb"
   },
   "outputs": [
    {
     "name": "stderr",
     "output_type": "stream",
     "text": [
      "2023-04-21 21:50:20.295895: I tensorflow/core/platform/cpu_feature_guard.cc:193] This TensorFlow binary is optimized with oneAPI Deep Neural Network Library (oneDNN) to use the following CPU instructions in performance-critical operations:  AVX2 FMA\n",
      "To enable them in other operations, rebuild TensorFlow with the appropriate compiler flags.\n"
     ]
    }
   ],
   "source": [
    "#Basic Pandas/Numpy\n",
    "import numpy as np\n",
    "import pandas as pd\n",
    "\n",
    "#Data Visualization\n",
    "import seaborn as sns\n",
    "import matplotlib.pyplot as plt\n",
    "\n",
    "#ML Preprocessing\n",
    "from sklearn.preprocessing import StandardScaler, OneHotEncoder, OrdinalEncoder\n",
    "from sklearn.model_selection import train_test_split\n",
    "from sklearn.compose import make_column_selector, make_column_transformer\n",
    "from sklearn.impute import SimpleImputer\n",
    "from sklearn.pipeline import make_pipeline\n",
    "from sklearn import set_config\n",
    "set_config(display='diagram')\n",
    "\n",
    "#Regression Libraries\n",
    "from sklearn.linear_model import LinearRegression\n",
    "import statsmodels.api as sm\n",
    "from sklearn.tree import DecisionTreeRegressor\n",
    "from sklearn.ensemble import BaggingRegressor, RandomForestRegressor\n",
    "from sklearn.metrics import r2_score, mean_squared_error, mean_absolute_error\n",
    "\n",
    "#TensorFlow/Keras\n",
    "from tensorflow.keras import Sequential\n",
    "from tensorflow.keras import metrics\n",
    "from tensorflow.keras.layers import Dense, Dropout\n",
    "\n",
    "#Post-Analysis\n",
    "import joblib\n",
    "\n",
    "#linking to Google Drive\n",
    "#from google.colab import drive\n",
    "#drive.mount(\"/content/drive\")"
   ]
  },
  {
   "cell_type": "code",
   "execution_count": 2,
   "metadata": {},
   "outputs": [],
   "source": [
    "pd.set_option(\"display.max_columns\", None)\n",
    "pd.set_option(\"display.max_rows\", None)\n",
    "pd.set_option('display.float_format', lambda x: f\"{x:,.2f}\")"
   ]
  },
  {
   "cell_type": "markdown",
   "metadata": {
    "id": "30I8eBmOu1xa"
   },
   "source": [
    "Data Dictionary\n",
    "\n",
    "| Category                  | Data Type | Feature Type | Description                                                                                         |\n",
    "|---------------------------|-----------|--------------|-----------------------------------------------------------------------------------------------------|\n",
    "| Item_Identifier           | object    | Numeric      | Unique product ID                                                                                   |\n",
    "| Item_Weight               | float     | Numeric      | Weight of product                                                                                   |\n",
    "| Item_Fat_Content          | object    | Nominal      | Whether the product is low fat or regular                                                           |\n",
    "| Item_Visibility           | float     | Numeric      | The percentage of total display area of all products in a store allocated to the particular product |\n",
    "| Item_Type                 | object    | Nominal      | The category to which the product belongs                                                           |\n",
    "| Item_MRP                  | float     | Numeric      | Maximum Retail Price (list price) of the product                                                    |\n",
    "| Outlet_Identifier         | object    | Nominal      | Unique store ID                                                                                     |\n",
    "| Outlet_Establishment_Year | int       | Ordinal      | The year in which store was established                                                             |\n",
    "| Outlet_Size               | object    | Ordinal      | The size of the store in terms of ground area covered                                               |\n",
    "| Outlet_Location_Type      | object    | Ordinal      | The type of area in which the store is located                                                      |\n",
    "| Outlet_Type               | object    | Nominal      | Whether the outlet is a grocery store or some sort of supermarket                                   |\n",
    "| Item_Outlet_Sales         | float     | TARGET       | Sales of the product in the particular store. This is the target variable to be predicted.          |"
   ]
  },
  {
   "cell_type": "markdown",
   "metadata": {
    "heading_collapsed": true,
    "id": "WUrphup-uSH7"
   },
   "source": [
    "## Loading Data"
   ]
  },
  {
   "cell_type": "code",
   "execution_count": 3,
   "metadata": {
    "colab": {
     "base_uri": "https://localhost:8080/"
    },
    "hidden": true,
    "id": "gIfI1NyUuUXY",
    "outputId": "106272ce-44c2-40ae-8573-553ab408a28c"
   },
   "outputs": [
    {
     "name": "stdout",
     "output_type": "stream",
     "text": [
      "<class 'pandas.core.frame.DataFrame'>\n",
      "RangeIndex: 8523 entries, 0 to 8522\n",
      "Data columns (total 12 columns):\n",
      " #   Column                     Non-Null Count  Dtype  \n",
      "---  ------                     --------------  -----  \n",
      " 0   Item_Identifier            8523 non-null   object \n",
      " 1   Item_Weight                7060 non-null   float64\n",
      " 2   Item_Fat_Content           8523 non-null   object \n",
      " 3   Item_Visibility            8523 non-null   float64\n",
      " 4   Item_Type                  8523 non-null   object \n",
      " 5   Item_MRP                   8523 non-null   float64\n",
      " 6   Outlet_Identifier          8523 non-null   object \n",
      " 7   Outlet_Establishment_Year  8523 non-null   int64  \n",
      " 8   Outlet_Size                6113 non-null   object \n",
      " 9   Outlet_Location_Type       8523 non-null   object \n",
      " 10  Outlet_Type                8523 non-null   object \n",
      " 11  Item_Outlet_Sales          8523 non-null   float64\n",
      "dtypes: float64(4), int64(1), object(7)\n",
      "memory usage: 799.2+ KB\n"
     ]
    }
   ],
   "source": [
    "filename = \"sales_predictions.csv\"\n",
    "df = pd.read_csv(filename)\n",
    "df.info()"
   ]
  },
  {
   "cell_type": "code",
   "execution_count": 4,
   "metadata": {
    "colab": {
     "base_uri": "https://localhost:8080/",
     "height": 0
    },
    "hidden": true,
    "id": "PIeGPRpUSEFc",
    "outputId": "a65532a6-1c1e-48e3-fce0-968c053f9950"
   },
   "outputs": [
    {
     "data": {
      "text/html": [
       "<div>\n",
       "<style scoped>\n",
       "    .dataframe tbody tr th:only-of-type {\n",
       "        vertical-align: middle;\n",
       "    }\n",
       "\n",
       "    .dataframe tbody tr th {\n",
       "        vertical-align: top;\n",
       "    }\n",
       "\n",
       "    .dataframe thead th {\n",
       "        text-align: right;\n",
       "    }\n",
       "</style>\n",
       "<table border=\"1\" class=\"dataframe\">\n",
       "  <thead>\n",
       "    <tr style=\"text-align: right;\">\n",
       "      <th></th>\n",
       "      <th>Item_Identifier</th>\n",
       "      <th>Item_Weight</th>\n",
       "      <th>Item_Fat_Content</th>\n",
       "      <th>Item_Visibility</th>\n",
       "      <th>Item_Type</th>\n",
       "      <th>Item_MRP</th>\n",
       "      <th>Outlet_Identifier</th>\n",
       "      <th>Outlet_Establishment_Year</th>\n",
       "      <th>Outlet_Size</th>\n",
       "      <th>Outlet_Location_Type</th>\n",
       "      <th>Outlet_Type</th>\n",
       "      <th>Item_Outlet_Sales</th>\n",
       "    </tr>\n",
       "  </thead>\n",
       "  <tbody>\n",
       "    <tr>\n",
       "      <th>0</th>\n",
       "      <td>FDA15</td>\n",
       "      <td>9.30</td>\n",
       "      <td>Low Fat</td>\n",
       "      <td>0.02</td>\n",
       "      <td>Dairy</td>\n",
       "      <td>249.81</td>\n",
       "      <td>OUT049</td>\n",
       "      <td>1999</td>\n",
       "      <td>Medium</td>\n",
       "      <td>Tier 1</td>\n",
       "      <td>Supermarket Type1</td>\n",
       "      <td>3,735.14</td>\n",
       "    </tr>\n",
       "    <tr>\n",
       "      <th>1</th>\n",
       "      <td>DRC01</td>\n",
       "      <td>5.92</td>\n",
       "      <td>Regular</td>\n",
       "      <td>0.02</td>\n",
       "      <td>Soft Drinks</td>\n",
       "      <td>48.27</td>\n",
       "      <td>OUT018</td>\n",
       "      <td>2009</td>\n",
       "      <td>Medium</td>\n",
       "      <td>Tier 3</td>\n",
       "      <td>Supermarket Type2</td>\n",
       "      <td>443.42</td>\n",
       "    </tr>\n",
       "    <tr>\n",
       "      <th>2</th>\n",
       "      <td>FDN15</td>\n",
       "      <td>17.50</td>\n",
       "      <td>Low Fat</td>\n",
       "      <td>0.02</td>\n",
       "      <td>Meat</td>\n",
       "      <td>141.62</td>\n",
       "      <td>OUT049</td>\n",
       "      <td>1999</td>\n",
       "      <td>Medium</td>\n",
       "      <td>Tier 1</td>\n",
       "      <td>Supermarket Type1</td>\n",
       "      <td>2,097.27</td>\n",
       "    </tr>\n",
       "    <tr>\n",
       "      <th>3</th>\n",
       "      <td>FDX07</td>\n",
       "      <td>19.20</td>\n",
       "      <td>Regular</td>\n",
       "      <td>0.00</td>\n",
       "      <td>Fruits and Vegetables</td>\n",
       "      <td>182.09</td>\n",
       "      <td>OUT010</td>\n",
       "      <td>1998</td>\n",
       "      <td>NaN</td>\n",
       "      <td>Tier 3</td>\n",
       "      <td>Grocery Store</td>\n",
       "      <td>732.38</td>\n",
       "    </tr>\n",
       "    <tr>\n",
       "      <th>4</th>\n",
       "      <td>NCD19</td>\n",
       "      <td>8.93</td>\n",
       "      <td>Low Fat</td>\n",
       "      <td>0.00</td>\n",
       "      <td>Household</td>\n",
       "      <td>53.86</td>\n",
       "      <td>OUT013</td>\n",
       "      <td>1987</td>\n",
       "      <td>High</td>\n",
       "      <td>Tier 3</td>\n",
       "      <td>Supermarket Type1</td>\n",
       "      <td>994.71</td>\n",
       "    </tr>\n",
       "  </tbody>\n",
       "</table>\n",
       "</div>"
      ],
      "text/plain": [
       "  Item_Identifier  Item_Weight Item_Fat_Content  Item_Visibility  \\\n",
       "0           FDA15         9.30          Low Fat             0.02   \n",
       "1           DRC01         5.92          Regular             0.02   \n",
       "2           FDN15        17.50          Low Fat             0.02   \n",
       "3           FDX07        19.20          Regular             0.00   \n",
       "4           NCD19         8.93          Low Fat             0.00   \n",
       "\n",
       "               Item_Type  Item_MRP Outlet_Identifier  \\\n",
       "0                  Dairy    249.81            OUT049   \n",
       "1            Soft Drinks     48.27            OUT018   \n",
       "2                   Meat    141.62            OUT049   \n",
       "3  Fruits and Vegetables    182.09            OUT010   \n",
       "4              Household     53.86            OUT013   \n",
       "\n",
       "   Outlet_Establishment_Year Outlet_Size Outlet_Location_Type  \\\n",
       "0                       1999      Medium               Tier 1   \n",
       "1                       2009      Medium               Tier 3   \n",
       "2                       1999      Medium               Tier 1   \n",
       "3                       1998         NaN               Tier 3   \n",
       "4                       1987        High               Tier 3   \n",
       "\n",
       "         Outlet_Type  Item_Outlet_Sales  \n",
       "0  Supermarket Type1           3,735.14  \n",
       "1  Supermarket Type2             443.42  \n",
       "2  Supermarket Type1           2,097.27  \n",
       "3      Grocery Store             732.38  \n",
       "4  Supermarket Type1             994.71  "
      ]
     },
     "execution_count": 4,
     "metadata": {},
     "output_type": "execute_result"
    }
   ],
   "source": [
    "df.head()"
   ]
  },
  {
   "cell_type": "markdown",
   "metadata": {
    "id": "MTb_Y32OuUpk"
   },
   "source": [
    "## Data Cleaning\n",
    "Dropping duplicates\n",
    "\n",
    "Fixing inconsistencies in categorical columns\n",
    "\n",
    "Corresponded with Neerja Jhingan, removing Item Identifier, Outlet Identifier, and Outlet Establishment Year as well."
   ]
  },
  {
   "cell_type": "code",
   "execution_count": 5,
   "metadata": {
    "colab": {
     "base_uri": "https://localhost:8080/"
    },
    "id": "FKNag_tuVUC6",
    "outputId": "1cb2708e-9dac-48aa-bd61-56e681c4602b"
   },
   "outputs": [
    {
     "data": {
      "text/plain": [
       "(8523, 12)"
      ]
     },
     "execution_count": 5,
     "metadata": {},
     "output_type": "execute_result"
    }
   ],
   "source": [
    "#number of rows and columns\n",
    "df.shape"
   ]
  },
  {
   "cell_type": "code",
   "execution_count": 6,
   "metadata": {
    "colab": {
     "base_uri": "https://localhost:8080/"
    },
    "id": "4wIXLQ2VVWuo",
    "outputId": "87200587-ebea-43c2-899f-70598d5367a9"
   },
   "outputs": [
    {
     "data": {
      "text/plain": [
       "Item_Identifier               object\n",
       "Item_Weight                  float64\n",
       "Item_Fat_Content              object\n",
       "Item_Visibility              float64\n",
       "Item_Type                     object\n",
       "Item_MRP                     float64\n",
       "Outlet_Identifier             object\n",
       "Outlet_Establishment_Year      int64\n",
       "Outlet_Size                   object\n",
       "Outlet_Location_Type          object\n",
       "Outlet_Type                   object\n",
       "Item_Outlet_Sales            float64\n",
       "dtype: object"
      ]
     },
     "execution_count": 6,
     "metadata": {},
     "output_type": "execute_result"
    }
   ],
   "source": [
    "#Datatype for each variable\n",
    "df.dtypes"
   ]
  },
  {
   "cell_type": "code",
   "execution_count": 7,
   "metadata": {
    "colab": {
     "base_uri": "https://localhost:8080/"
    },
    "id": "wbvMLAMkVZad",
    "outputId": "af44626d-097d-43e4-b39a-44b69faa3f59"
   },
   "outputs": [
    {
     "data": {
      "text/plain": [
       "0"
      ]
     },
     "execution_count": 7,
     "metadata": {},
     "output_type": "execute_result"
    }
   ],
   "source": [
    "#drop duplicates\n",
    "df.duplicated().sum()"
   ]
  },
  {
   "cell_type": "code",
   "execution_count": 8,
   "metadata": {},
   "outputs": [],
   "source": [
    "cols = [\"Item_Identifier\", \"Outlet_Identifier\", \"Outlet_Establishment_Year\"]\n",
    "df.drop(columns = cols, inplace = True)"
   ]
  },
  {
   "cell_type": "code",
   "execution_count": 9,
   "metadata": {},
   "outputs": [
    {
     "data": {
      "text/plain": [
       "Item_Weight             float64\n",
       "Item_Fat_Content         object\n",
       "Item_Visibility         float64\n",
       "Item_Type                object\n",
       "Item_MRP                float64\n",
       "Outlet_Size              object\n",
       "Outlet_Location_Type     object\n",
       "Outlet_Type              object\n",
       "Item_Outlet_Sales       float64\n",
       "dtype: object"
      ]
     },
     "execution_count": 9,
     "metadata": {},
     "output_type": "execute_result"
    }
   ],
   "source": [
    "df.dtypes"
   ]
  },
  {
   "cell_type": "code",
   "execution_count": 10,
   "metadata": {},
   "outputs": [
    {
     "name": "stdout",
     "output_type": "stream",
     "text": [
      "Low Fat    5089\n",
      "Regular    2889\n",
      "LF          316\n",
      "reg         117\n",
      "low fat     112\n",
      "Name: Item_Fat_Content, dtype: int64\n",
      "Fruits and Vegetables    1232\n",
      "Snack Foods              1200\n",
      "Household                 910\n",
      "Frozen Foods              856\n",
      "Dairy                     682\n",
      "Canned                    649\n",
      "Baking Goods              648\n",
      "Health and Hygiene        520\n",
      "Soft Drinks               445\n",
      "Meat                      425\n",
      "Breads                    251\n",
      "Hard Drinks               214\n",
      "Others                    169\n",
      "Starchy Foods             148\n",
      "Breakfast                 110\n",
      "Seafood                    64\n",
      "Name: Item_Type, dtype: int64\n",
      "Medium    2793\n",
      "Small     2388\n",
      "High       932\n",
      "Name: Outlet_Size, dtype: int64\n",
      "Tier 3    3350\n",
      "Tier 2    2785\n",
      "Tier 1    2388\n",
      "Name: Outlet_Location_Type, dtype: int64\n",
      "Supermarket Type1    5577\n",
      "Grocery Store        1083\n",
      "Supermarket Type3     935\n",
      "Supermarket Type2     928\n",
      "Name: Outlet_Type, dtype: int64\n"
     ]
    }
   ],
   "source": [
    "catcols = [\"Item_Fat_Content\", \"Item_Type\", \"Outlet_Size\", \"Outlet_Location_Type\", \"Outlet_Type\"]\n",
    "for col in catcols:\n",
    "    print(df[col].value_counts())"
   ]
  },
  {
   "cell_type": "code",
   "execution_count": 11,
   "metadata": {
    "colab": {
     "base_uri": "https://localhost:8080/"
    },
    "id": "X5K0lhJaVmM2",
    "outputId": "c66e876c-861a-4b11-f5bb-f0b800445a07"
   },
   "outputs": [
    {
     "data": {
      "text/plain": [
       "Low Fat    5089\n",
       "Regular    2889\n",
       "LF          316\n",
       "reg         117\n",
       "low fat     112\n",
       "Name: Item_Fat_Content, dtype: int64"
      ]
     },
     "execution_count": 11,
     "metadata": {},
     "output_type": "execute_result"
    }
   ],
   "source": [
    "# Only categorical column that needs fixing is Item_Fat_Content\n",
    "df[\"Item_Fat_Content\"].value_counts()"
   ]
  },
  {
   "cell_type": "code",
   "execution_count": 12,
   "metadata": {
    "colab": {
     "base_uri": "https://localhost:8080/"
    },
    "id": "8z-fS02r9nOr",
    "outputId": "f59e4b4d-2773-4fc5-8261-5a8bb34e4c5f"
   },
   "outputs": [
    {
     "data": {
      "text/plain": [
       "Low Fat    5517\n",
       "Regular    3006\n",
       "Name: Item_Fat_Content, dtype: int64"
      ]
     },
     "execution_count": 12,
     "metadata": {},
     "output_type": "execute_result"
    }
   ],
   "source": [
    "#Fixing Item Fat Content to Low Fat and Regular Values\n",
    "replacements = {\"LF\": \"Low Fat\",\n",
    "                \"low fat\": \"Low Fat\",\n",
    "                \"reg\": \"Regular\"}\n",
    "df[\"Item_Fat_Content\"] = df[\"Item_Fat_Content\"].replace(replacements)\n",
    "df[\"Item_Fat_Content\"].value_counts()"
   ]
  },
  {
   "cell_type": "code",
   "execution_count": 13,
   "metadata": {
    "colab": {
     "base_uri": "https://localhost:8080/",
     "height": 0
    },
    "id": "FHg1be3z_cWi",
    "outputId": "44b6b119-1e2b-4229-a197-20e1c6b5a1fa"
   },
   "outputs": [
    {
     "data": {
      "text/html": [
       "<div>\n",
       "<style scoped>\n",
       "    .dataframe tbody tr th:only-of-type {\n",
       "        vertical-align: middle;\n",
       "    }\n",
       "\n",
       "    .dataframe tbody tr th {\n",
       "        vertical-align: top;\n",
       "    }\n",
       "\n",
       "    .dataframe thead th {\n",
       "        text-align: right;\n",
       "    }\n",
       "</style>\n",
       "<table border=\"1\" class=\"dataframe\">\n",
       "  <thead>\n",
       "    <tr style=\"text-align: right;\">\n",
       "      <th></th>\n",
       "      <th>Item_Weight</th>\n",
       "      <th>Item_Visibility</th>\n",
       "      <th>Item_MRP</th>\n",
       "      <th>Item_Outlet_Sales</th>\n",
       "    </tr>\n",
       "  </thead>\n",
       "  <tbody>\n",
       "    <tr>\n",
       "      <th>min</th>\n",
       "      <td>4.55</td>\n",
       "      <td>0.00</td>\n",
       "      <td>31.29</td>\n",
       "      <td>33.29</td>\n",
       "    </tr>\n",
       "    <tr>\n",
       "      <th>max</th>\n",
       "      <td>21.35</td>\n",
       "      <td>0.33</td>\n",
       "      <td>266.89</td>\n",
       "      <td>13,086.96</td>\n",
       "    </tr>\n",
       "    <tr>\n",
       "      <th>mean</th>\n",
       "      <td>12.86</td>\n",
       "      <td>0.07</td>\n",
       "      <td>140.99</td>\n",
       "      <td>2,181.29</td>\n",
       "    </tr>\n",
       "  </tbody>\n",
       "</table>\n",
       "</div>"
      ],
      "text/plain": [
       "      Item_Weight  Item_Visibility  Item_MRP  Item_Outlet_Sales\n",
       "min          4.55             0.00     31.29              33.29\n",
       "max         21.35             0.33    266.89          13,086.96\n",
       "mean        12.86             0.07    140.99           2,181.29"
      ]
     },
     "execution_count": 13,
     "metadata": {},
     "output_type": "execute_result"
    }
   ],
   "source": [
    "#Obtaining the summary statistics of all numerical columns\n",
    "df.describe().loc[[\"min\", \"max\", \"mean\"]]"
   ]
  },
  {
   "cell_type": "markdown",
   "metadata": {
    "id": "R0nefUR8_Qxn"
   },
   "source": [
    "## Pre-Processing for ML\n",
    "\n",
    "An aside regarding what might be considered ordinal columns (Outlet_Establishment_Year, Outlet_Size, Outlet_Location_Type): \n",
    "\n",
    "* I am choosing to utilize Outlet_Establishment_Year as a nominal column at the moment, changing the int datatypes to string datatypes. I feel this better reflects the years as categories rather than numbers for the model to utilize.\n",
    "\n",
    "* After talking with Yvon Bilodeau, I was informed that Outlet_Location_Type and Outlet_Size did not seem to have a correlation with Item_Outlet_Sales. This will further be expanded upon in a \"Food_Sales_Analysis\" update at some point in the future to corrobrate this."
   ]
  },
  {
   "cell_type": "code",
   "execution_count": 14,
   "metadata": {
    "colab": {
     "base_uri": "https://localhost:8080/"
    },
    "id": "-kmrO_q6o6n7",
    "outputId": "2add5ac5-4950-4b76-d041-dfbd8bef7730"
   },
   "outputs": [
    {
     "name": "stdout",
     "output_type": "stream",
     "text": [
      "Medium    2793\n",
      "Small     2388\n",
      "High       932\n",
      "Name: Outlet_Size, dtype: int64\n",
      "2410\n"
     ]
    }
   ],
   "source": [
    "print(df[\"Outlet_Size\"].value_counts())\n",
    "print(df[\"Outlet_Size\"].isna().sum())"
   ]
  },
  {
   "cell_type": "code",
   "execution_count": 15,
   "metadata": {
    "colab": {
     "base_uri": "https://localhost:8080/"
    },
    "id": "qWp-G3BQwfKf",
    "outputId": "b281e377-7655-4dac-a6a5-c59897f1781c"
   },
   "outputs": [
    {
     "data": {
      "text/plain": [
       "Medium     2793\n",
       "Missing    2410\n",
       "Small      2388\n",
       "High        932\n",
       "Name: Outlet_Size, dtype: int64"
      ]
     },
     "execution_count": 15,
     "metadata": {},
     "output_type": "execute_result"
    }
   ],
   "source": [
    "df[\"Outlet_Size\"].fillna(\"Missing\", inplace=True)\n",
    "df[\"Outlet_Size\"].value_counts()"
   ]
  },
  {
   "cell_type": "markdown",
   "metadata": {
    "id": "eskSwCKO_fvw"
   },
   "source": [
    "### Feature and Target Identification"
   ]
  },
  {
   "cell_type": "code",
   "execution_count": 16,
   "metadata": {
    "id": "n9caLFGs_kO0"
   },
   "outputs": [],
   "source": [
    "#Assign the \"Item_Outlet_Sales\" column as your target and the rest of the relevant \n",
    "#variables as your features matrix.\n",
    "y = df[\"Item_Outlet_Sales\"]\n",
    "X = df.drop(columns = \"Item_Outlet_Sales\")"
   ]
  },
  {
   "cell_type": "code",
   "execution_count": 17,
   "metadata": {
    "id": "4iGUvjyE_qjn"
   },
   "outputs": [],
   "source": [
    "#Perform a train test split\n",
    "X_train, X_test, y_train, y_test = train_test_split(X, y, random_state=42)"
   ]
  },
  {
   "cell_type": "markdown",
   "metadata": {
    "id": "YDEp69tw_u4h"
   },
   "source": [
    "### Preprocessing objects"
   ]
  },
  {
   "cell_type": "code",
   "execution_count": 18,
   "metadata": {
    "id": "mMFvwN07mLyz"
   },
   "outputs": [
    {
     "data": {
      "text/plain": [
       "['Item_Fat_Content',\n",
       " 'Item_Type',\n",
       " 'Outlet_Size',\n",
       " 'Outlet_Location_Type',\n",
       " 'Outlet_Type']"
      ]
     },
     "execution_count": 18,
     "metadata": {},
     "output_type": "execute_result"
    }
   ],
   "source": [
    "## make categorical selector and verify it works \n",
    "cat_sel = make_column_selector(dtype_include='object')\n",
    "cat_sel(X_train)"
   ]
  },
  {
   "cell_type": "code",
   "execution_count": 19,
   "metadata": {
    "id": "xurzkzORyl41"
   },
   "outputs": [
    {
     "data": {
      "text/plain": [
       "['Item_Weight', 'Item_Visibility', 'Item_MRP']"
      ]
     },
     "execution_count": 19,
     "metadata": {},
     "output_type": "execute_result"
    }
   ],
   "source": [
    "## make numeric selector and verify it works \n",
    "num_sel = make_column_selector(dtype_include='number')\n",
    "num_sel(X_train)"
   ]
  },
  {
   "cell_type": "code",
   "execution_count": 20,
   "metadata": {},
   "outputs": [
    {
     "name": "stdout",
     "output_type": "stream",
     "text": [
      "For Item_Fat_Content:\n",
      "['Low Fat' 'Regular']\n",
      "\n",
      "For Item_Type:\n",
      "['Dairy' 'Soft Drinks' 'Meat' 'Fruits and Vegetables' 'Household'\n",
      " 'Baking Goods' 'Snack Foods' 'Frozen Foods' 'Breakfast'\n",
      " 'Health and Hygiene' 'Hard Drinks' 'Canned' 'Breads' 'Starchy Foods'\n",
      " 'Others' 'Seafood']\n",
      "\n",
      "For Outlet_Size:\n",
      "['Medium' 'Missing' 'High' 'Small']\n",
      "\n",
      "For Outlet_Location_Type:\n",
      "['Tier 1' 'Tier 3' 'Tier 2']\n",
      "\n",
      "For Outlet_Type:\n",
      "['Supermarket Type1' 'Supermarket Type2' 'Grocery Store'\n",
      " 'Supermarket Type3']\n",
      "\n"
     ]
    }
   ],
   "source": [
    "for col in cat_sel(X):\n",
    "    print(f\"For {col}:\\n{X[col].unique()}\\n\")"
   ]
  },
  {
   "cell_type": "code",
   "execution_count": 21,
   "metadata": {
    "id": "RJIWsTObymnA"
   },
   "outputs": [],
   "source": [
    "## make pipelines for categorical vs numeric data\n",
    "\n",
    "cat_pipe = make_pipeline(SimpleImputer(strategy='constant', fill_value='MISSING'),\n",
    "                         OneHotEncoder(drop = \"first\", handle_unknown='ignore', sparse=False))\n",
    "num_pipe = make_pipeline(SimpleImputer(strategy='mean'))"
   ]
  },
  {
   "cell_type": "code",
   "execution_count": 22,
   "metadata": {},
   "outputs": [],
   "source": [
    "## make the preprocessing column transformer\n",
    "preprocessor = make_column_transformer((num_pipe, num_sel),\n",
    "                                       (cat_pipe,cat_sel),                                      \n",
    "                                       verbose_feature_names_out=False)"
   ]
  },
  {
   "cell_type": "code",
   "execution_count": 23,
   "metadata": {
    "id": "IxpfPcCSyqCZ"
   },
   "outputs": [],
   "source": [
    "preprocessor.fit(X_train)\n",
    "\n",
    "X_train_processed = preprocessor.transform(X_train)\n",
    "X_test_processed = preprocessor.transform(X_test)"
   ]
  },
  {
   "cell_type": "code",
   "execution_count": 24,
   "metadata": {},
   "outputs": [
    {
     "data": {
      "text/plain": [
       "array(['Item_Weight', 'Item_Visibility', 'Item_MRP',\n",
       "       'Item_Fat_Content_Regular', 'Item_Type_Breads',\n",
       "       'Item_Type_Breakfast', 'Item_Type_Canned', 'Item_Type_Dairy',\n",
       "       'Item_Type_Frozen Foods', 'Item_Type_Fruits and Vegetables',\n",
       "       'Item_Type_Hard Drinks', 'Item_Type_Health and Hygiene',\n",
       "       'Item_Type_Household', 'Item_Type_Meat', 'Item_Type_Others',\n",
       "       'Item_Type_Seafood', 'Item_Type_Snack Foods',\n",
       "       'Item_Type_Soft Drinks', 'Item_Type_Starchy Foods',\n",
       "       'Outlet_Size_Medium', 'Outlet_Size_Missing', 'Outlet_Size_Small',\n",
       "       'Outlet_Location_Type_Tier 2', 'Outlet_Location_Type_Tier 3',\n",
       "       'Outlet_Type_Supermarket Type1', 'Outlet_Type_Supermarket Type2',\n",
       "       'Outlet_Type_Supermarket Type3'], dtype=object)"
      ]
     },
     "execution_count": 24,
     "metadata": {},
     "output_type": "execute_result"
    }
   ],
   "source": [
    "## fit column transformer and run get_feature_names_out\n",
    "feature_names = preprocessor.get_feature_names_out()\n",
    "feature_names"
   ]
  },
  {
   "cell_type": "code",
   "execution_count": 25,
   "metadata": {
    "scrolled": true
   },
   "outputs": [
    {
     "data": {
      "text/html": [
       "<div>\n",
       "<style scoped>\n",
       "    .dataframe tbody tr th:only-of-type {\n",
       "        vertical-align: middle;\n",
       "    }\n",
       "\n",
       "    .dataframe tbody tr th {\n",
       "        vertical-align: top;\n",
       "    }\n",
       "\n",
       "    .dataframe thead th {\n",
       "        text-align: right;\n",
       "    }\n",
       "</style>\n",
       "<table border=\"1\" class=\"dataframe\">\n",
       "  <thead>\n",
       "    <tr style=\"text-align: right;\">\n",
       "      <th></th>\n",
       "      <th>Item_Weight</th>\n",
       "      <th>Item_Visibility</th>\n",
       "      <th>Item_MRP</th>\n",
       "      <th>Item_Fat_Content_Regular</th>\n",
       "      <th>Item_Type_Breads</th>\n",
       "      <th>Item_Type_Breakfast</th>\n",
       "      <th>Item_Type_Canned</th>\n",
       "      <th>Item_Type_Dairy</th>\n",
       "      <th>Item_Type_Frozen Foods</th>\n",
       "      <th>Item_Type_Fruits and Vegetables</th>\n",
       "      <th>Item_Type_Hard Drinks</th>\n",
       "      <th>Item_Type_Health and Hygiene</th>\n",
       "      <th>Item_Type_Household</th>\n",
       "      <th>Item_Type_Meat</th>\n",
       "      <th>Item_Type_Others</th>\n",
       "      <th>Item_Type_Seafood</th>\n",
       "      <th>Item_Type_Snack Foods</th>\n",
       "      <th>Item_Type_Soft Drinks</th>\n",
       "      <th>Item_Type_Starchy Foods</th>\n",
       "      <th>Outlet_Size_Medium</th>\n",
       "      <th>Outlet_Size_Missing</th>\n",
       "      <th>Outlet_Size_Small</th>\n",
       "      <th>Outlet_Location_Type_Tier 2</th>\n",
       "      <th>Outlet_Location_Type_Tier 3</th>\n",
       "      <th>Outlet_Type_Supermarket Type1</th>\n",
       "      <th>Outlet_Type_Supermarket Type2</th>\n",
       "      <th>Outlet_Type_Supermarket Type3</th>\n",
       "    </tr>\n",
       "  </thead>\n",
       "  <tbody>\n",
       "    <tr>\n",
       "      <th>4776</th>\n",
       "      <td>16.35</td>\n",
       "      <td>0.03</td>\n",
       "      <td>256.46</td>\n",
       "      <td>0.00</td>\n",
       "      <td>0.00</td>\n",
       "      <td>0.00</td>\n",
       "      <td>0.00</td>\n",
       "      <td>0.00</td>\n",
       "      <td>0.00</td>\n",
       "      <td>0.00</td>\n",
       "      <td>0.00</td>\n",
       "      <td>0.00</td>\n",
       "      <td>1.00</td>\n",
       "      <td>0.00</td>\n",
       "      <td>0.00</td>\n",
       "      <td>0.00</td>\n",
       "      <td>0.00</td>\n",
       "      <td>0.00</td>\n",
       "      <td>0.00</td>\n",
       "      <td>1.00</td>\n",
       "      <td>0.00</td>\n",
       "      <td>0.00</td>\n",
       "      <td>0.00</td>\n",
       "      <td>1.00</td>\n",
       "      <td>0.00</td>\n",
       "      <td>1.00</td>\n",
       "      <td>0.00</td>\n",
       "    </tr>\n",
       "    <tr>\n",
       "      <th>7510</th>\n",
       "      <td>15.25</td>\n",
       "      <td>0.00</td>\n",
       "      <td>179.77</td>\n",
       "      <td>1.00</td>\n",
       "      <td>0.00</td>\n",
       "      <td>0.00</td>\n",
       "      <td>0.00</td>\n",
       "      <td>0.00</td>\n",
       "      <td>0.00</td>\n",
       "      <td>0.00</td>\n",
       "      <td>0.00</td>\n",
       "      <td>0.00</td>\n",
       "      <td>0.00</td>\n",
       "      <td>0.00</td>\n",
       "      <td>0.00</td>\n",
       "      <td>0.00</td>\n",
       "      <td>1.00</td>\n",
       "      <td>0.00</td>\n",
       "      <td>0.00</td>\n",
       "      <td>1.00</td>\n",
       "      <td>0.00</td>\n",
       "      <td>0.00</td>\n",
       "      <td>0.00</td>\n",
       "      <td>1.00</td>\n",
       "      <td>0.00</td>\n",
       "      <td>1.00</td>\n",
       "      <td>0.00</td>\n",
       "    </tr>\n",
       "    <tr>\n",
       "      <th>5828</th>\n",
       "      <td>12.35</td>\n",
       "      <td>0.16</td>\n",
       "      <td>157.29</td>\n",
       "      <td>1.00</td>\n",
       "      <td>0.00</td>\n",
       "      <td>0.00</td>\n",
       "      <td>0.00</td>\n",
       "      <td>0.00</td>\n",
       "      <td>0.00</td>\n",
       "      <td>0.00</td>\n",
       "      <td>0.00</td>\n",
       "      <td>0.00</td>\n",
       "      <td>0.00</td>\n",
       "      <td>1.00</td>\n",
       "      <td>0.00</td>\n",
       "      <td>0.00</td>\n",
       "      <td>0.00</td>\n",
       "      <td>0.00</td>\n",
       "      <td>0.00</td>\n",
       "      <td>1.00</td>\n",
       "      <td>0.00</td>\n",
       "      <td>0.00</td>\n",
       "      <td>0.00</td>\n",
       "      <td>0.00</td>\n",
       "      <td>1.00</td>\n",
       "      <td>0.00</td>\n",
       "      <td>0.00</td>\n",
       "    </tr>\n",
       "  </tbody>\n",
       "</table>\n",
       "</div>"
      ],
      "text/plain": [
       "      Item_Weight  Item_Visibility  Item_MRP  Item_Fat_Content_Regular  \\\n",
       "4776        16.35             0.03    256.46                      0.00   \n",
       "7510        15.25             0.00    179.77                      1.00   \n",
       "5828        12.35             0.16    157.29                      1.00   \n",
       "\n",
       "      Item_Type_Breads  Item_Type_Breakfast  Item_Type_Canned  \\\n",
       "4776              0.00                 0.00              0.00   \n",
       "7510              0.00                 0.00              0.00   \n",
       "5828              0.00                 0.00              0.00   \n",
       "\n",
       "      Item_Type_Dairy  Item_Type_Frozen Foods  \\\n",
       "4776             0.00                    0.00   \n",
       "7510             0.00                    0.00   \n",
       "5828             0.00                    0.00   \n",
       "\n",
       "      Item_Type_Fruits and Vegetables  Item_Type_Hard Drinks  \\\n",
       "4776                             0.00                   0.00   \n",
       "7510                             0.00                   0.00   \n",
       "5828                             0.00                   0.00   \n",
       "\n",
       "      Item_Type_Health and Hygiene  Item_Type_Household  Item_Type_Meat  \\\n",
       "4776                          0.00                 1.00            0.00   \n",
       "7510                          0.00                 0.00            0.00   \n",
       "5828                          0.00                 0.00            1.00   \n",
       "\n",
       "      Item_Type_Others  Item_Type_Seafood  Item_Type_Snack Foods  \\\n",
       "4776              0.00               0.00                   0.00   \n",
       "7510              0.00               0.00                   1.00   \n",
       "5828              0.00               0.00                   0.00   \n",
       "\n",
       "      Item_Type_Soft Drinks  Item_Type_Starchy Foods  Outlet_Size_Medium  \\\n",
       "4776                   0.00                     0.00                1.00   \n",
       "7510                   0.00                     0.00                1.00   \n",
       "5828                   0.00                     0.00                1.00   \n",
       "\n",
       "      Outlet_Size_Missing  Outlet_Size_Small  Outlet_Location_Type_Tier 2  \\\n",
       "4776                 0.00               0.00                         0.00   \n",
       "7510                 0.00               0.00                         0.00   \n",
       "5828                 0.00               0.00                         0.00   \n",
       "\n",
       "      Outlet_Location_Type_Tier 3  Outlet_Type_Supermarket Type1  \\\n",
       "4776                         1.00                           0.00   \n",
       "7510                         1.00                           0.00   \n",
       "5828                         0.00                           1.00   \n",
       "\n",
       "      Outlet_Type_Supermarket Type2  Outlet_Type_Supermarket Type3  \n",
       "4776                           1.00                           0.00  \n",
       "7510                           1.00                           0.00  \n",
       "5828                           0.00                           0.00  "
      ]
     },
     "execution_count": 25,
     "metadata": {},
     "output_type": "execute_result"
    }
   ],
   "source": [
    "X_train_df = pd.DataFrame(preprocessor.transform(X_train), columns = feature_names, index = X_train.index)\n",
    "X_train_df.head(3)"
   ]
  },
  {
   "cell_type": "code",
   "execution_count": 26,
   "metadata": {
    "scrolled": true
   },
   "outputs": [
    {
     "data": {
      "text/html": [
       "<div>\n",
       "<style scoped>\n",
       "    .dataframe tbody tr th:only-of-type {\n",
       "        vertical-align: middle;\n",
       "    }\n",
       "\n",
       "    .dataframe tbody tr th {\n",
       "        vertical-align: top;\n",
       "    }\n",
       "\n",
       "    .dataframe thead th {\n",
       "        text-align: right;\n",
       "    }\n",
       "</style>\n",
       "<table border=\"1\" class=\"dataframe\">\n",
       "  <thead>\n",
       "    <tr style=\"text-align: right;\">\n",
       "      <th></th>\n",
       "      <th>Item_Weight</th>\n",
       "      <th>Item_Visibility</th>\n",
       "      <th>Item_MRP</th>\n",
       "      <th>Item_Fat_Content_Regular</th>\n",
       "      <th>Item_Type_Breads</th>\n",
       "      <th>Item_Type_Breakfast</th>\n",
       "      <th>Item_Type_Canned</th>\n",
       "      <th>Item_Type_Dairy</th>\n",
       "      <th>Item_Type_Frozen Foods</th>\n",
       "      <th>Item_Type_Fruits and Vegetables</th>\n",
       "      <th>Item_Type_Hard Drinks</th>\n",
       "      <th>Item_Type_Health and Hygiene</th>\n",
       "      <th>Item_Type_Household</th>\n",
       "      <th>Item_Type_Meat</th>\n",
       "      <th>Item_Type_Others</th>\n",
       "      <th>Item_Type_Seafood</th>\n",
       "      <th>Item_Type_Snack Foods</th>\n",
       "      <th>Item_Type_Soft Drinks</th>\n",
       "      <th>Item_Type_Starchy Foods</th>\n",
       "      <th>Outlet_Size_Medium</th>\n",
       "      <th>Outlet_Size_Missing</th>\n",
       "      <th>Outlet_Size_Small</th>\n",
       "      <th>Outlet_Location_Type_Tier 2</th>\n",
       "      <th>Outlet_Location_Type_Tier 3</th>\n",
       "      <th>Outlet_Type_Supermarket Type1</th>\n",
       "      <th>Outlet_Type_Supermarket Type2</th>\n",
       "      <th>Outlet_Type_Supermarket Type3</th>\n",
       "    </tr>\n",
       "  </thead>\n",
       "  <tbody>\n",
       "    <tr>\n",
       "      <th>7503</th>\n",
       "      <td>14.30</td>\n",
       "      <td>0.03</td>\n",
       "      <td>79.43</td>\n",
       "      <td>0.00</td>\n",
       "      <td>0.00</td>\n",
       "      <td>0.00</td>\n",
       "      <td>0.00</td>\n",
       "      <td>0.00</td>\n",
       "      <td>1.00</td>\n",
       "      <td>0.00</td>\n",
       "      <td>0.00</td>\n",
       "      <td>0.00</td>\n",
       "      <td>0.00</td>\n",
       "      <td>0.00</td>\n",
       "      <td>0.00</td>\n",
       "      <td>0.00</td>\n",
       "      <td>0.00</td>\n",
       "      <td>0.00</td>\n",
       "      <td>0.00</td>\n",
       "      <td>0.00</td>\n",
       "      <td>0.00</td>\n",
       "      <td>0.00</td>\n",
       "      <td>0.00</td>\n",
       "      <td>1.00</td>\n",
       "      <td>1.00</td>\n",
       "      <td>0.00</td>\n",
       "      <td>0.00</td>\n",
       "    </tr>\n",
       "    <tr>\n",
       "      <th>2957</th>\n",
       "      <td>7.93</td>\n",
       "      <td>0.07</td>\n",
       "      <td>42.71</td>\n",
       "      <td>0.00</td>\n",
       "      <td>0.00</td>\n",
       "      <td>0.00</td>\n",
       "      <td>0.00</td>\n",
       "      <td>0.00</td>\n",
       "      <td>0.00</td>\n",
       "      <td>0.00</td>\n",
       "      <td>0.00</td>\n",
       "      <td>1.00</td>\n",
       "      <td>0.00</td>\n",
       "      <td>0.00</td>\n",
       "      <td>0.00</td>\n",
       "      <td>0.00</td>\n",
       "      <td>0.00</td>\n",
       "      <td>0.00</td>\n",
       "      <td>0.00</td>\n",
       "      <td>0.00</td>\n",
       "      <td>0.00</td>\n",
       "      <td>1.00</td>\n",
       "      <td>0.00</td>\n",
       "      <td>0.00</td>\n",
       "      <td>1.00</td>\n",
       "      <td>0.00</td>\n",
       "      <td>0.00</td>\n",
       "    </tr>\n",
       "    <tr>\n",
       "      <th>7031</th>\n",
       "      <td>14.50</td>\n",
       "      <td>0.04</td>\n",
       "      <td>42.05</td>\n",
       "      <td>1.00</td>\n",
       "      <td>0.00</td>\n",
       "      <td>0.00</td>\n",
       "      <td>1.00</td>\n",
       "      <td>0.00</td>\n",
       "      <td>0.00</td>\n",
       "      <td>0.00</td>\n",
       "      <td>0.00</td>\n",
       "      <td>0.00</td>\n",
       "      <td>0.00</td>\n",
       "      <td>0.00</td>\n",
       "      <td>0.00</td>\n",
       "      <td>0.00</td>\n",
       "      <td>0.00</td>\n",
       "      <td>0.00</td>\n",
       "      <td>0.00</td>\n",
       "      <td>1.00</td>\n",
       "      <td>0.00</td>\n",
       "      <td>0.00</td>\n",
       "      <td>0.00</td>\n",
       "      <td>0.00</td>\n",
       "      <td>1.00</td>\n",
       "      <td>0.00</td>\n",
       "      <td>0.00</td>\n",
       "    </tr>\n",
       "  </tbody>\n",
       "</table>\n",
       "</div>"
      ],
      "text/plain": [
       "      Item_Weight  Item_Visibility  Item_MRP  Item_Fat_Content_Regular  \\\n",
       "7503        14.30             0.03     79.43                      0.00   \n",
       "2957         7.93             0.07     42.71                      0.00   \n",
       "7031        14.50             0.04     42.05                      1.00   \n",
       "\n",
       "      Item_Type_Breads  Item_Type_Breakfast  Item_Type_Canned  \\\n",
       "7503              0.00                 0.00              0.00   \n",
       "2957              0.00                 0.00              0.00   \n",
       "7031              0.00                 0.00              1.00   \n",
       "\n",
       "      Item_Type_Dairy  Item_Type_Frozen Foods  \\\n",
       "7503             0.00                    1.00   \n",
       "2957             0.00                    0.00   \n",
       "7031             0.00                    0.00   \n",
       "\n",
       "      Item_Type_Fruits and Vegetables  Item_Type_Hard Drinks  \\\n",
       "7503                             0.00                   0.00   \n",
       "2957                             0.00                   0.00   \n",
       "7031                             0.00                   0.00   \n",
       "\n",
       "      Item_Type_Health and Hygiene  Item_Type_Household  Item_Type_Meat  \\\n",
       "7503                          0.00                 0.00            0.00   \n",
       "2957                          1.00                 0.00            0.00   \n",
       "7031                          0.00                 0.00            0.00   \n",
       "\n",
       "      Item_Type_Others  Item_Type_Seafood  Item_Type_Snack Foods  \\\n",
       "7503              0.00               0.00                   0.00   \n",
       "2957              0.00               0.00                   0.00   \n",
       "7031              0.00               0.00                   0.00   \n",
       "\n",
       "      Item_Type_Soft Drinks  Item_Type_Starchy Foods  Outlet_Size_Medium  \\\n",
       "7503                   0.00                     0.00                0.00   \n",
       "2957                   0.00                     0.00                0.00   \n",
       "7031                   0.00                     0.00                1.00   \n",
       "\n",
       "      Outlet_Size_Missing  Outlet_Size_Small  Outlet_Location_Type_Tier 2  \\\n",
       "7503                 0.00               0.00                         0.00   \n",
       "2957                 0.00               1.00                         0.00   \n",
       "7031                 0.00               0.00                         0.00   \n",
       "\n",
       "      Outlet_Location_Type_Tier 3  Outlet_Type_Supermarket Type1  \\\n",
       "7503                         1.00                           1.00   \n",
       "2957                         0.00                           1.00   \n",
       "7031                         0.00                           1.00   \n",
       "\n",
       "      Outlet_Type_Supermarket Type2  Outlet_Type_Supermarket Type3  \n",
       "7503                           0.00                           0.00  \n",
       "2957                           0.00                           0.00  \n",
       "7031                           0.00                           0.00  "
      ]
     },
     "execution_count": 26,
     "metadata": {},
     "output_type": "execute_result"
    }
   ],
   "source": [
    "X_test_df = pd.DataFrame(preprocessor.transform(X_test),\n",
    "                           columns = feature_names, index = X_test.index)\n",
    "X_test_df.head(3)"
   ]
  },
  {
   "cell_type": "code",
   "execution_count": 27,
   "metadata": {},
   "outputs": [
    {
     "data": {
      "text/plain": [
       "7503   1,743.06\n",
       "2957     356.87\n",
       "7031     377.51\n",
       "Name: Item_Outlet_Sales, dtype: float64"
      ]
     },
     "execution_count": 27,
     "metadata": {},
     "output_type": "execute_result"
    }
   ],
   "source": [
    "## confirm the first 3 rows index in y_test matches X_test_df\n",
    "y_test.head(3)"
   ]
  },
  {
   "cell_type": "markdown",
   "metadata": {
    "id": "YExWNrDd3cHK"
   },
   "source": [
    "## Regressions\n",
    "\n",
    "1. Linear Regression Model\n",
    "2. Regression Tree Model\n",
    "3. Keras Deep Learning Model\n",
    "\n",
    "For all regresions, evaluate performance based off of r^2 and RMSE. "
   ]
  },
  {
   "cell_type": "code",
   "execution_count": 28,
   "metadata": {},
   "outputs": [],
   "source": [
    "def evaluate_regression(model, X_train,y_train, X_test, y_test): \n",
    "    \"\"\"Evaluates a scikit learn regression model using r-squared and RMSE\"\"\"\n",
    "    \n",
    "    ## Training Data\n",
    "    y_pred_train = model.predict(X_train)\n",
    "    r2_train = r2_score(y_train, y_pred_train)\n",
    "    rmse_train = mean_squared_error(y_train, y_pred_train, \n",
    "                                            squared=False)\n",
    "    \n",
    "    print(f\"Training Data:\\tR^2= {r2_train:.2f}\\tRMSE= {rmse_train:.2f}\")\n",
    "        \n",
    "    \n",
    "    ## Test Data\n",
    "    y_pred_test = model.predict(X_test)\n",
    "    r2_test = r2_score(y_test, y_pred_test)\n",
    "    rmse_test = mean_squared_error(y_test, y_pred_test, \n",
    "                                            squared=False)\n",
    "    \n",
    "    print(f\"Test Data:\\tR^2= {r2_test:.2f}\\tRMSE= {rmse_test:.2f}\")\n"
   ]
  },
  {
   "cell_type": "markdown",
   "metadata": {
    "id": "2OyxsrNb3yh6"
   },
   "source": [
    "### LINEAR REGRESSION MODEL\n",
    "\n",
    "Evaluate the performance of your model based on r^2 and RMSE "
   ]
  },
  {
   "cell_type": "code",
   "execution_count": 29,
   "metadata": {
    "id": "zoU-F7MF3w-e"
   },
   "outputs": [
    {
     "name": "stdout",
     "output_type": "stream",
     "text": [
      "Training Data:\tR^2= 0.56\tRMSE= 1139.58\n",
      "Test Data:\tR^2= 0.57\tRMSE= 1094.27\n"
     ]
    }
   ],
   "source": [
    "#Creating Regressor instance\n",
    "reg = LinearRegression()\n",
    "\n",
    "reg.fit(X_train_df, y_train)\n",
    "evaluate_regression(reg, X_train_df, y_train, X_test_df, y_test)"
   ]
  },
  {
   "cell_type": "code",
   "execution_count": 30,
   "metadata": {
    "scrolled": true
   },
   "outputs": [
    {
     "data": {
      "text/plain": [
       "array(['Item_Weight', 'Item_Visibility', 'Item_MRP',\n",
       "       'Item_Fat_Content_Regular', 'Item_Type_Breads',\n",
       "       'Item_Type_Breakfast', 'Item_Type_Canned', 'Item_Type_Dairy',\n",
       "       'Item_Type_Frozen Foods', 'Item_Type_Fruits and Vegetables',\n",
       "       'Item_Type_Hard Drinks', 'Item_Type_Health and Hygiene',\n",
       "       'Item_Type_Household', 'Item_Type_Meat', 'Item_Type_Others',\n",
       "       'Item_Type_Seafood', 'Item_Type_Snack Foods',\n",
       "       'Item_Type_Soft Drinks', 'Item_Type_Starchy Foods',\n",
       "       'Outlet_Size_Medium', 'Outlet_Size_Missing', 'Outlet_Size_Small',\n",
       "       'Outlet_Location_Type_Tier 2', 'Outlet_Location_Type_Tier 3',\n",
       "       'Outlet_Type_Supermarket Type1', 'Outlet_Type_Supermarket Type2',\n",
       "       'Outlet_Type_Supermarket Type3'], dtype=object)"
      ]
     },
     "execution_count": 30,
     "metadata": {},
     "output_type": "execute_result"
    }
   ],
   "source": [
    "reg.feature_names_in_"
   ]
  },
  {
   "cell_type": "code",
   "execution_count": 31,
   "metadata": {},
   "outputs": [
    {
     "data": {
      "text/plain": [
       "Item_Weight                           -1.86\n",
       "Item_Visibility                     -425.37\n",
       "Item_MRP                              15.72\n",
       "Item_Fat_Content_Regular              63.83\n",
       "Item_Type_Breads                     -34.42\n",
       "Item_Type_Breakfast                   44.99\n",
       "Item_Type_Canned                      25.05\n",
       "Item_Type_Dairy                     -107.28\n",
       "Item_Type_Frozen Foods                -1.55\n",
       "Item_Type_Fruits and Vegetables       42.20\n",
       "Item_Type_Hard Drinks                  8.46\n",
       "Item_Type_Health and Hygiene          26.72\n",
       "Item_Type_Household                    3.77\n",
       "Item_Type_Meat                       -12.08\n",
       "Item_Type_Others                     -29.32\n",
       "Item_Type_Seafood                    318.96\n",
       "Item_Type_Snack Foods                -23.59\n",
       "Item_Type_Soft Drinks                -41.58\n",
       "Item_Type_Starchy Foods               41.41\n",
       "Outlet_Size_Medium                   114.54\n",
       "Outlet_Size_Missing                 -119.03\n",
       "Outlet_Size_Small                      2.92\n",
       "Outlet_Location_Type_Tier 2          147.13\n",
       "Outlet_Location_Type_Tier 3           90.93\n",
       "Outlet_Type_Supermarket Type1      1,873.91\n",
       "Outlet_Type_Supermarket Type2      1,424.40\n",
       "Outlet_Type_Supermarket Type3      3,132.40\n",
       "intercept                         -1,811.31\n",
       "dtype: float64"
      ]
     },
     "execution_count": 31,
     "metadata": {},
     "output_type": "execute_result"
    }
   ],
   "source": [
    "## Saving the coefficients\n",
    "coeffs = pd.Series(reg.coef_, index= reg.feature_names_in_)\n",
    "coeffs['intercept'] = reg.intercept_\n",
    "coeffs"
   ]
  },
  {
   "cell_type": "code",
   "execution_count": 32,
   "metadata": {},
   "outputs": [],
   "source": [
    "def plot_coeffs(coeffs, top_n=None,  figsize=(4,5), \n",
    "                intercept=False,  intercept_name = \"intercept\", \n",
    "                annotate=False, ha='left',va='center', size=12, \n",
    "                xytext=(4,0), textcoords='offset points'):\n",
    "    \"\"\" Plots the top_n coefficients from a Series, with optional annotations.\n",
    "    \"\"\"\n",
    "    # Drop intercept if intercept=False and \n",
    "    if (intercept==False) & ( intercept_name in coeffs.index):\n",
    "        coeffs = coeffs.drop(intercept_name)\n",
    "    if top_n==None:\n",
    "        ## sort all features and set title\n",
    "        plot_vals = coeffs#.sort_values()\n",
    "        title = \"All Coefficients - Ranked by Magnitude\"\n",
    "    else:\n",
    "        ## rank the coeffs and select the top_n\n",
    "        coeff_rank = coeffs.abs().rank().sort_values(ascending=False)\n",
    "        top_n_features = coeff_rank.head(top_n)\n",
    "        \n",
    "        ## sort features and keep top_n and set title\n",
    "        plot_vals = coeffs.loc[top_n_features.index].sort_values()\n",
    "        title = f\"Top {top_n} Largest Coefficients\"\n",
    "    ## plotting top N importances\n",
    "    ax = plot_vals.plot(kind='barh', figsize=figsize)\n",
    "    ax.set(xlabel='Coefficient', \n",
    "            ylabel='Feature Names', \n",
    "            title=title)\n",
    "    ax.axvline(0, color='k')\n",
    "    if annotate==True:\n",
    "        annotate_hbars(ax, ha=ha,va=va,size=size,xytext=xytext, textcoords=textcoords)\n",
    "    return ax\n"
   ]
  },
  {
   "cell_type": "code",
   "execution_count": 33,
   "metadata": {},
   "outputs": [],
   "source": [
    "def annotate_hbars(ax, ha='left',va='center',size=12,  xytext=(4,0),\n",
    "                  textcoords='offset points'):\n",
    "    for bar in ax.patches:\n",
    "    \n",
    "        ## calculate center of bar\n",
    "        bar_ax = bar.get_y() + bar.get_height()/2\n",
    "        ## get the value to annotate\n",
    "        val = bar.get_width()\n",
    "        if val < 0:\n",
    "            val_pos = 0\n",
    "        else:\n",
    "            val_pos = val\n",
    "        # ha and va stand for the horizontal and vertical alignment\n",
    "        ax.annotate(f\"{val:.3f}\", (val_pos,bar_ax), ha=ha,va=va,size=size,\n",
    "                        xytext=xytext, textcoords=textcoords)\n"
   ]
  },
  {
   "cell_type": "code",
   "execution_count": 34,
   "metadata": {
    "scrolled": false
   },
   "outputs": [
    {
     "data": {
      "image/png": "[encoded data removed]",
      "text/plain": [
       "<Figure size 400x500 with 1 Axes>"
      ]
     },
     "metadata": {},
     "output_type": "display_data"
    }
   ],
   "source": [
    "fig, ax = plt.subplots(figsize = (20, 20))\n",
    "ax = plot_coeffs(coeffs,top_n=3, annotate = True)"
   ]
  },
  {
   "cell_type": "markdown",
   "metadata": {},
   "source": [
    "All Item Identifiers correlate to a single, one hot encoded item. They signify a change in X dollars (where X is the coefficient) depending on the item. For example, if an item is FDU55, then it will be 6640.594 monetary units to start with."
   ]
  },
  {
   "cell_type": "code",
   "execution_count": 35,
   "metadata": {},
   "outputs": [],
   "source": [
    "#Saving Figure\n",
    "#plt.savefig(\"LineReg3MIF.png\")\n",
    "fig.savefig('images/LineReg3MIF.png',transparent=False, bbox_inches='tight')"
   ]
  },
  {
   "cell_type": "markdown",
   "metadata": {
    "id": "3GZUtH_o5-ap"
   },
   "source": [
    "### REGRESSION TREE MODEL\n",
    "\n",
    "Evaluate the performance of your model based on r^2 and RMSE"
   ]
  },
  {
   "cell_type": "code",
   "execution_count": 36,
   "metadata": {
    "colab": {
     "base_uri": "https://localhost:8080/"
    },
    "id": "JcZrDjfX6IqA",
    "outputId": "8648ccfb-c852-45a5-ae62-d716a5360b29"
   },
   "outputs": [
    {
     "name": "stdout",
     "output_type": "stream",
     "text": [
      "1.0\n",
      "0.17044226777537064\n"
     ]
    }
   ],
   "source": [
    "#model instance\n",
    "dec_tree = DecisionTreeRegressor(random_state = 42)\n",
    "\n",
    "#fitting the model\n",
    "dec_tree.fit(X_train_df, y_train)\n",
    "\n",
    "#prediction values\n",
    "dec_train_preds = dec_tree.predict(X_train_df)\n",
    "dec_test_preds = dec_tree.predict(X_test_df)\n",
    "\n",
    "#model evaluation\n",
    "dec_train_score = dec_tree.score(X_train_df, y_train)\n",
    "dec_test_score = dec_tree.score(X_test_df, y_test)\n",
    "print(dec_train_score)\n",
    "print(dec_test_score)"
   ]
  },
  {
   "cell_type": "code",
   "execution_count": 37,
   "metadata": {
    "colab": {
     "base_uri": "https://localhost:8080/",
     "height": 206
    },
    "id": "Czo5ZlujC4Dd",
    "outputId": "4e5ce441-76bc-4176-faf0-47a513e55a9b",
    "scrolled": true
   },
   "outputs": [
    {
     "data": {
      "text/html": [
       "<div>\n",
       "<style scoped>\n",
       "    .dataframe tbody tr th:only-of-type {\n",
       "        vertical-align: middle;\n",
       "    }\n",
       "\n",
       "    .dataframe tbody tr th {\n",
       "        vertical-align: top;\n",
       "    }\n",
       "\n",
       "    .dataframe thead th {\n",
       "        text-align: right;\n",
       "    }\n",
       "</style>\n",
       "<table border=\"1\" class=\"dataframe\">\n",
       "  <thead>\n",
       "    <tr style=\"text-align: right;\">\n",
       "      <th></th>\n",
       "      <th>Test Score</th>\n",
       "      <th>Train Score</th>\n",
       "    </tr>\n",
       "  </thead>\n",
       "  <tbody>\n",
       "    <tr>\n",
       "      <th>5</th>\n",
       "      <td>0.59</td>\n",
       "      <td>0.61</td>\n",
       "    </tr>\n",
       "    <tr>\n",
       "      <th>6</th>\n",
       "      <td>0.58</td>\n",
       "      <td>0.62</td>\n",
       "    </tr>\n",
       "    <tr>\n",
       "      <th>4</th>\n",
       "      <td>0.57</td>\n",
       "      <td>0.58</td>\n",
       "    </tr>\n",
       "    <tr>\n",
       "      <th>7</th>\n",
       "      <td>0.57</td>\n",
       "      <td>0.64</td>\n",
       "    </tr>\n",
       "    <tr>\n",
       "      <th>8</th>\n",
       "      <td>0.55</td>\n",
       "      <td>0.66</td>\n",
       "    </tr>\n",
       "  </tbody>\n",
       "</table>\n",
       "</div>"
      ],
      "text/plain": [
       "  Test Score Train Score\n",
       "5       0.59        0.61\n",
       "6       0.58        0.62\n",
       "4       0.57        0.58\n",
       "7       0.57        0.64\n",
       "8       0.55        0.66"
      ]
     },
     "execution_count": 37,
     "metadata": {},
     "output_type": "execute_result"
    }
   ],
   "source": [
    "#Decision Tree Tuning\n",
    "depth = dec_tree.get_depth()\n",
    "# List of values to try for max_depth:\n",
    "depths = list(range(1, depth))\n",
    "# Data frame to store the score for each value of max_depth:\n",
    "scores = pd.DataFrame(index=depths, columns=['Test Score','Train Score'])\n",
    "for depth in depths:\n",
    "    dec_tree = DecisionTreeRegressor(max_depth=depth, random_state=42)\n",
    "    dec_tree.fit(X_train_df, y_train)\n",
    "    train_score = dec_tree.score(X_train_df, y_train)\n",
    "    test_score = dec_tree.score(X_test_df, y_test)\n",
    "    scores.loc[depth, 'Train Score'] = train_score\n",
    "    scores.loc[depth, 'Test Score'] = test_score\n",
    "\n",
    "sorted_scores = scores.sort_values(by='Test Score', ascending=False)\n",
    "sorted_scores.head()"
   ]
  },
  {
   "cell_type": "code",
   "execution_count": 38,
   "metadata": {},
   "outputs": [
    {
     "name": "stdout",
     "output_type": "stream",
     "text": [
      "Training Data:\tR^2= 0.61\tRMSE= 1071.49\n",
      "Test Data:\tR^2= 0.59\tRMSE= 1069.13\n"
     ]
    }
   ],
   "source": [
    "#Decision Tree Tuning 2; optimal depth = 5\n",
    "optimal_depth = 5\n",
    "\n",
    "dec_tree_opt = DecisionTreeRegressor(max_depth = optimal_depth, random_state = 42)\n",
    "dec_tree_opt.fit(X_train_df, y_train)\n",
    "evaluate_regression(dec_tree_opt, X_train_df, y_train, X_test_df, y_test)"
   ]
  },
  {
   "cell_type": "code",
   "execution_count": 39,
   "metadata": {},
   "outputs": [
    {
     "data": {
      "text/plain": [
       "Item_Visibility                 0.00\n",
       "Outlet_Type_Supermarket Type2   0.11\n",
       "Outlet_Type_Supermarket Type1   0.16\n",
       "Outlet_Type_Supermarket Type3   0.18\n",
       "Item_MRP                        0.55\n",
       "Name: Feature Importance, dtype: float64"
      ]
     },
     "execution_count": 39,
     "metadata": {},
     "output_type": "execute_result"
    }
   ],
   "source": [
    "#Extracting feature importances into pandas series\n",
    "importances = pd.Series(dec_tree_opt.feature_importances_, index= feature_names,\n",
    "                       name='Feature Importance')\n",
    "importances = importances.sort_values(ascending = True)\n",
    "importances.tail()"
   ]
  },
  {
   "cell_type": "code",
   "execution_count": 40,
   "metadata": {},
   "outputs": [
    {
     "data": {
      "text/plain": [
       "0.9999999999999998"
      ]
     },
     "execution_count": 40,
     "metadata": {},
     "output_type": "execute_result"
    }
   ],
   "source": [
    "#Making sure importances = 1\n",
    "importances.sum()"
   ]
  },
  {
   "cell_type": "code",
   "execution_count": 41,
   "metadata": {},
   "outputs": [
    {
     "data": {
      "image/png": "[encoded data removed]",
      "text/plain": [
       "<Figure size 800x600 with 1 Axes>"
      ]
     },
     "metadata": {},
     "output_type": "display_data"
    }
   ],
   "source": [
    "#Graphing top 5 importances\n",
    "## just keep the top 10 importances and plot\n",
    "fig, ax = plt.subplots(figsize = (20, 20))\n",
    "ax = importances.tail(5).plot(kind='barh',\n",
    "                         figsize=(8,6),\n",
    "                        title = \"Top 5 Most Important Features\",\n",
    "                        xlabel = \"Importance\",\n",
    "                        ylabel = \"Feature Name\")\n",
    "fig_gcf = plt.gcf()"
   ]
  },
  {
   "cell_type": "code",
   "execution_count": 42,
   "metadata": {
    "scrolled": true
   },
   "outputs": [],
   "source": [
    "#Saving Figure\n",
    "fig.savefig('images/DecTree5MIF.png',transparent=False, bbox_inches='tight')"
   ]
  },
  {
   "cell_type": "markdown",
   "metadata": {},
   "source": [
    "### Keras Deep Learning Model"
   ]
  },
  {
   "cell_type": "code",
   "execution_count": 43,
   "metadata": {},
   "outputs": [],
   "source": [
    "# Learning history plotting function\n",
    "def plot_history(history):\n",
    "  \"\"\"Takes a keras model learning history and plots each metric\"\"\"\n",
    "  metrics = history.history.keys()\n",
    "  for metric in metrics:\n",
    "      if not 'val' in metric:\n",
    "        plt.plot(history.history[f'{metric}'], label=f'{metric}')\n",
    "        if f'val_{metric}' in metrics:\n",
    "          plt.plot(history.history[f'val_{metric}'], label=f'val_{metric}')\n",
    "        plt.legend()\n",
    "        plt.title(f'{metric}')\n",
    "        plt.show()"
   ]
  },
  {
   "cell_type": "code",
   "execution_count": 44,
   "metadata": {
    "scrolled": true
   },
   "outputs": [
    {
     "name": "stdout",
     "output_type": "stream",
     "text": [
      "Model: \"sequential\"\n",
      "_________________________________________________________________\n",
      " Layer (type)                Output Shape              Param #   \n",
      "=================================================================\n",
      " dense (Dense)               (None, 10)                280       \n",
      "                                                                 \n",
      " dense_1 (Dense)             (None, 10)                110       \n",
      "                                                                 \n",
      " dense_2 (Dense)             (None, 1)                 11        \n",
      "                                                                 \n",
      "=================================================================\n",
      "Total params: 401\n",
      "Trainable params: 401\n",
      "Non-trainable params: 0\n",
      "_________________________________________________________________\n"
     ]
    },
    {
     "name": "stderr",
     "output_type": "stream",
     "text": [
      "2023-04-21 21:50:26.500223: I tensorflow/core/platform/cpu_feature_guard.cc:193] This TensorFlow binary is optimized with oneAPI Deep Neural Network Library (oneDNN) to use the following CPU instructions in performance-critical operations:  AVX2 FMA\n",
      "To enable them in other operations, rebuild TensorFlow with the appropriate compiler flags.\n"
     ]
    }
   ],
   "source": [
    "# create model architecture\n",
    "input_shape = X_train_df.shape[1]\n",
    " \n",
    "reg_model = Sequential()\n",
    " \n",
    "reg_model.add(Dense(10, input_dim=input_shape, activation='relu'))\n",
    "reg_model.add(Dense(10, activation='relu'))\n",
    "reg_model.add(Dense(1, activation='linear'))\n",
    " \n",
    "reg_model.summary()"
   ]
  },
  {
   "cell_type": "code",
   "execution_count": 45,
   "metadata": {},
   "outputs": [],
   "source": [
    "# compile model with additional metrics \n",
    "reg_model.compile(loss='mse',\n",
    "                  optimizer='adam',\n",
    "                  metrics=[metrics.RootMeanSquaredError()])"
   ]
  },
  {
   "cell_type": "code",
   "execution_count": 46,
   "metadata": {},
   "outputs": [],
   "source": [
    "#X_train_array = X_train_df.toarray()\n",
    "#X_test_array = X_test_df.toarray()\n",
    "\n",
    "history = reg_model.fit(X_train_df, y_train,\n",
    "                        validation_data = (X_test_df, y_test),\n",
    "                        epochs=100,\n",
    "                        verbose=0)"
   ]
  },
  {
   "cell_type": "code",
   "execution_count": 47,
   "metadata": {
    "scrolled": true
   },
   "outputs": [
    {
     "data": {
      "image/png": "[encoded data removed]",
      "text/plain": [
       "<Figure size 640x480 with 1 Axes>"
      ]
     },
     "metadata": {},
     "output_type": "display_data"
    },
    {
     "data": {
      "image/png": "[encoded data removed]",
      "text/plain": [
       "<Figure size 640x480 with 1 Axes>"
      ]
     },
     "metadata": {},
     "output_type": "display_data"
    }
   ],
   "source": [
    "# plot learning\n",
    "plot_history(history)"
   ]
  },
  {
   "cell_type": "code",
   "execution_count": 48,
   "metadata": {},
   "outputs": [
    {
     "name": "stdout",
     "output_type": "stream",
     "text": [
      "67/67 [==============================] - 0s 721us/step\n",
      "200/200 [==============================] - 0s 835us/step\n",
      "Training Data:\tR^2= 0.52\tRMSE= 1187.03\n",
      "67/67 [==============================] - 0s 964us/step\n",
      "Test Data:\tR^2= 0.52\tRMSE= 1148.93\n"
     ]
    }
   ],
   "source": [
    "# evaluate model\n",
    " \n",
    "y_pred = reg_model.predict(X_test_df)\n",
    " \n",
    "evaluate_regression(reg_model, X_train_df, y_train, X_test_df, y_test)"
   ]
  },
  {
   "cell_type": "markdown",
   "metadata": {
    "id": "9uDLPMmVFnqb"
   },
   "source": [
    "## Which model to use?\n",
    "\n",
    "\n",
    "<center>Linear Regression:</center>\n",
    "\n",
    "|                | r^2                 | RMSE               |\n",
    "|----------------|---------------------|--------------------|\n",
    "| Model Training | 0.6716977904733816  | 985.6956156908806  |\n",
    "| Model Testing  | 0.38335523332222055 | 1304.3423269636032 |\n",
    "\n",
    "<center> Decision Tree:</center>\n",
    "\n",
    "|                | r^2                 | RMSE               |\n",
    "|----------------|---------------------|--------------------|\n",
    "| Model Training | 0.6716977904733816  | 1082.281287111312  |\n",
    "| Model Testing  | 0.38335523332222055 | 1055.6851402178304 |\n",
    "\n",
    "Keras TensorFlow:\n",
    "\n",
    "Model Testing r^2:  0.5441030783172758\n",
    "\n",
    "Model Testing RMSE: 1121.5209549997742"
   ]
  },
  {
   "cell_type": "markdown",
   "metadata": {
    "id": "86Icwa1zF6O2"
   },
   "source": [
    "The r^2 values for both the linear regression and the decision tree are the same. The r^2 value for the tensorflow though was lower, so we can eliminate that model for use.The RMSE values for the Linear Regression and Decision tree are different. Because the RMSE for the test on the decision tree is lower than the RMSE for the test on the regression, I recommend the Decision Tree in order to avoid larger errors."
   ]
  },
  {
   "cell_type": "markdown",
   "metadata": {},
   "source": [
    "### Serializing Final Model\n",
    "\n",
    "Once you've finished updating and explaining your models, you must save the following key: value pairs as a dictionary in a joblib file named \"best-models.joblib\":\n",
    "* \"preprocessor\": your preprocessing  column transformer\n",
    "* \"X_train\": your training features.\n",
    "* \"X_test\": your test features.\n",
    "* \"y_train\": your training target.\n",
    "* \"y_test\": your test target.\n",
    "* \"LinearRegression\": your best linear regression\n",
    "* Your tree-based model's class name: your best tree-based model. e.g. \"RandomForestRegressor\"/\"DecisionTreeRegressor\"\n",
    "\n",
    "Save your joblib file inside your repository. (You will work with these models again in the next core assignment.)"
   ]
  },
  {
   "cell_type": "code",
   "execution_count": 49,
   "metadata": {},
   "outputs": [
    {
     "data": {
      "text/plain": [
       "['dec_tree.joblib']"
      ]
     },
     "execution_count": 49,
     "metadata": {},
     "output_type": "execute_result"
    }
   ],
   "source": [
    "## creating a dictionary of all of the variables to save for later\n",
    "export = {'X_train':X_train_df,\n",
    "         'y_train': y_train,\n",
    "         'X_test':X_test_df,\n",
    "          \"y_test\": y_test,\n",
    "         'preprocessor':preprocessor,\n",
    "          \"LinearRegression\": reg,\n",
    "         'DecisionTree':dec_tree_opt}\n",
    "joblib.dump(export, 'dec_tree.joblib')"
   ]
  }
 ],
 "metadata": {
  "colab": {
   "authorship_tag": "ABX9TyMoRc/SiNWc5U3ekNzep+ad",
   "include_colab_link": true,
   "provenance": []
  },
  "kernelspec": {
   "display_name": "Python 3 (ipykernel)",
   "language": "python",
   "name": "python3"
  },
  "language_info": {
   "codemirror_mode": {
    "name": "ipython",
    "version": 3
   },
   "file_extension": ".py",
   "mimetype": "text/x-python",
   "name": "python",
   "nbconvert_exporter": "python",
   "pygments_lexer": "ipython3",
   "version": "3.9.15"
  },
  "toc": {
   "base_numbering": 1,
   "nav_menu": {},
   "number_sections": false,
   "sideBar": true,
   "skip_h1_title": false,
   "title_cell": "Table of Contents",
   "title_sidebar": "Contents",
   "toc_cell": false,
   "toc_position": {},
   "toc_section_display": true,
   "toc_window_display": false
  }
 },
 "nbformat": 4,
 "nbformat_minor": 1
}

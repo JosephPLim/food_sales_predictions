{
 "cells": [
  {
   "cell_type": "markdown",
   "metadata": {
    "colab_type": "text",
    "id": "view-in-github"
   },
   "source": [
    "<a href=\"https://colab.research.google.com/github/JosephPLim/food_sales_predictions/blob/main/Food_Sales_AnalysisII.ipynb\" target=\"_parent\"><img src=\"https://colab.research.google.com/assets/colab-badge.svg\" alt=\"Open In Colab\"/></a>"
   ]
  },
  {
   "cell_type": "markdown",
   "metadata": {
    "id": "zKfkXq7yuCvw"
   },
   "source": [
    "# <center>Food Sales Analysis Modeling </center>\n",
    "\n",
    "Joseph Lim\n"
   ]
  },
  {
   "cell_type": "code",
   "execution_count": 1,
   "metadata": {
    "colab": {
     "base_uri": "https://localhost:8080/"
    },
    "id": "-PPRy-PCuR23",
    "outputId": "e3425c2b-05ef-41d3-c5e3-52271bd58deb"
   },
   "outputs": [
    {
     "name": "stderr",
     "output_type": "stream",
     "text": [
      "2023-04-20 02:33:29.990677: I tensorflow/core/platform/cpu_feature_guard.cc:193] This TensorFlow binary is optimized with oneAPI Deep Neural Network Library (oneDNN) to use the following CPU instructions in performance-critical operations:  AVX2 FMA\n",
      "To enable them in other operations, rebuild TensorFlow with the appropriate compiler flags.\n"
     ]
    }
   ],
   "source": [
    "#Basic Pandas/Numpy\n",
    "import numpy as np\n",
    "import pandas as pd\n",
    "\n",
    "#Data Visualization\n",
    "import seaborn as sns\n",
    "import matplotlib.pyplot as plt\n",
    "\n",
    "#ML Preprocessing\n",
    "from sklearn.preprocessing import StandardScaler, OneHotEncoder, OrdinalEncoder\n",
    "from sklearn.model_selection import train_test_split\n",
    "from sklearn.compose import make_column_selector, make_column_transformer\n",
    "from sklearn.impute import SimpleImputer\n",
    "from sklearn.pipeline import make_pipeline\n",
    "from sklearn import set_config\n",
    "set_config(display='diagram')\n",
    "\n",
    "#Regression Libraries\n",
    "from sklearn.linear_model import LinearRegression\n",
    "from sklearn.tree import DecisionTreeRegressor\n",
    "from sklearn.ensemble import BaggingRegressor, RandomForestRegressor\n",
    "from sklearn.metrics import r2_score, mean_squared_error, mean_absolute_error\n",
    "\n",
    "#TensorFlow/Keras\n",
    "from tensorflow.keras import Sequential\n",
    "from tensorflow.keras import metrics\n",
    "from tensorflow.keras.layers import Dense, Dropout\n",
    "\n",
    "#linking to Google Drive\n",
    "#from google.colab import drive\n",
    "#drive.mount(\"/content/drive\")"
   ]
  },
  {
   "cell_type": "markdown",
   "metadata": {
    "id": "30I8eBmOu1xa"
   },
   "source": [
    "Data Dictionary\n",
    "\n",
    "| Category                  | Data Type | Feature Type | Description                                                                                         |\n",
    "|---------------------------|-----------|--------------|-----------------------------------------------------------------------------------------------------|\n",
    "| Item_Identifier           | object    | Numeric      | Unique product ID                                                                                   |\n",
    "| Item_Weight               | float     | Numeric      | Weight of product                                                                                   |\n",
    "| Item_Fat_Content          | object    | Nominal      | Whether the product is low fat or regular                                                           |\n",
    "| Item_Visibility           | float     | Numeric      | The percentage of total display area of all products in a store allocated to the particular product |\n",
    "| Item_Type                 | object    | Nominal      | The category to which the product belongs                                                           |\n",
    "| Item_MRP                  | float     | Numeric      | Maximum Retail Price (list price) of the product                                                    |\n",
    "| Outlet_Identifier         | object    | Nominal      | Unique store ID                                                                                     |\n",
    "| Outlet_Establishment_Year | int       | Ordinal      | The year in which store was established                                                             |\n",
    "| Outlet_Size               | object    | Ordinal      | The size of the store in terms of ground area covered                                               |\n",
    "| Outlet_Location_Type      | object    | Ordinal      | The type of area in which the store is located                                                      |\n",
    "| Outlet_Type               | object    | Nominal      | Whether the outlet is a grocery store or some sort of supermarket                                   |\n",
    "| Item_Outlet_Sales         | float     | TARGET       | Sales of the product in the particular store. This is the target variable to be predicted.          |"
   ]
  },
  {
   "cell_type": "markdown",
   "metadata": {
    "heading_collapsed": true,
    "id": "WUrphup-uSH7"
   },
   "source": [
    "## Loading Data"
   ]
  },
  {
   "cell_type": "code",
   "execution_count": 3,
   "metadata": {
    "colab": {
     "base_uri": "https://localhost:8080/"
    },
    "hidden": true,
    "id": "gIfI1NyUuUXY",
    "outputId": "106272ce-44c2-40ae-8573-553ab408a28c"
   },
   "outputs": [
    {
     "name": "stdout",
     "output_type": "stream",
     "text": [
      "<class 'pandas.core.frame.DataFrame'>\n",
      "RangeIndex: 8523 entries, 0 to 8522\n",
      "Data columns (total 12 columns):\n",
      " #   Column                     Non-Null Count  Dtype  \n",
      "---  ------                     --------------  -----  \n",
      " 0   Item_Identifier            8523 non-null   object \n",
      " 1   Item_Weight                7060 non-null   float64\n",
      " 2   Item_Fat_Content           8523 non-null   object \n",
      " 3   Item_Visibility            8523 non-null   float64\n",
      " 4   Item_Type                  8523 non-null   object \n",
      " 5   Item_MRP                   8523 non-null   float64\n",
      " 6   Outlet_Identifier          8523 non-null   object \n",
      " 7   Outlet_Establishment_Year  8523 non-null   int64  \n",
      " 8   Outlet_Size                6113 non-null   object \n",
      " 9   Outlet_Location_Type       8523 non-null   object \n",
      " 10  Outlet_Type                8523 non-null   object \n",
      " 11  Item_Outlet_Sales          8523 non-null   float64\n",
      "dtypes: float64(4), int64(1), object(7)\n",
      "memory usage: 799.2+ KB\n"
     ]
    }
   ],
   "source": [
    "filename = \"sales_predictions.csv\"\n",
    "df = pd.read_csv(filename)\n",
    "df.info()"
   ]
  },
  {
   "cell_type": "code",
   "execution_count": 4,
   "metadata": {
    "colab": {
     "base_uri": "https://localhost:8080/",
     "height": 0
    },
    "hidden": true,
    "id": "PIeGPRpUSEFc",
    "outputId": "a65532a6-1c1e-48e3-fce0-968c053f9950"
   },
   "outputs": [
    {
     "data": {
      "text/html": [
       "<div>\n",
       "<style scoped>\n",
       "    .dataframe tbody tr th:only-of-type {\n",
       "        vertical-align: middle;\n",
       "    }\n",
       "\n",
       "    .dataframe tbody tr th {\n",
       "        vertical-align: top;\n",
       "    }\n",
       "\n",
       "    .dataframe thead th {\n",
       "        text-align: right;\n",
       "    }\n",
       "</style>\n",
       "<table border=\"1\" class=\"dataframe\">\n",
       "  <thead>\n",
       "    <tr style=\"text-align: right;\">\n",
       "      <th></th>\n",
       "      <th>Item_Identifier</th>\n",
       "      <th>Item_Weight</th>\n",
       "      <th>Item_Fat_Content</th>\n",
       "      <th>Item_Visibility</th>\n",
       "      <th>Item_Type</th>\n",
       "      <th>Item_MRP</th>\n",
       "      <th>Outlet_Identifier</th>\n",
       "      <th>Outlet_Establishment_Year</th>\n",
       "      <th>Outlet_Size</th>\n",
       "      <th>Outlet_Location_Type</th>\n",
       "      <th>Outlet_Type</th>\n",
       "      <th>Item_Outlet_Sales</th>\n",
       "    </tr>\n",
       "  </thead>\n",
       "  <tbody>\n",
       "    <tr>\n",
       "      <th>0</th>\n",
       "      <td>FDA15</td>\n",
       "      <td>9.30</td>\n",
       "      <td>Low Fat</td>\n",
       "      <td>0.016047</td>\n",
       "      <td>Dairy</td>\n",
       "      <td>249.8092</td>\n",
       "      <td>OUT049</td>\n",
       "      <td>1999</td>\n",
       "      <td>Medium</td>\n",
       "      <td>Tier 1</td>\n",
       "      <td>Supermarket Type1</td>\n",
       "      <td>3735.1380</td>\n",
       "    </tr>\n",
       "    <tr>\n",
       "      <th>1</th>\n",
       "      <td>DRC01</td>\n",
       "      <td>5.92</td>\n",
       "      <td>Regular</td>\n",
       "      <td>0.019278</td>\n",
       "      <td>Soft Drinks</td>\n",
       "      <td>48.2692</td>\n",
       "      <td>OUT018</td>\n",
       "      <td>2009</td>\n",
       "      <td>Medium</td>\n",
       "      <td>Tier 3</td>\n",
       "      <td>Supermarket Type2</td>\n",
       "      <td>443.4228</td>\n",
       "    </tr>\n",
       "    <tr>\n",
       "      <th>2</th>\n",
       "      <td>FDN15</td>\n",
       "      <td>17.50</td>\n",
       "      <td>Low Fat</td>\n",
       "      <td>0.016760</td>\n",
       "      <td>Meat</td>\n",
       "      <td>141.6180</td>\n",
       "      <td>OUT049</td>\n",
       "      <td>1999</td>\n",
       "      <td>Medium</td>\n",
       "      <td>Tier 1</td>\n",
       "      <td>Supermarket Type1</td>\n",
       "      <td>2097.2700</td>\n",
       "    </tr>\n",
       "    <tr>\n",
       "      <th>3</th>\n",
       "      <td>FDX07</td>\n",
       "      <td>19.20</td>\n",
       "      <td>Regular</td>\n",
       "      <td>0.000000</td>\n",
       "      <td>Fruits and Vegetables</td>\n",
       "      <td>182.0950</td>\n",
       "      <td>OUT010</td>\n",
       "      <td>1998</td>\n",
       "      <td>NaN</td>\n",
       "      <td>Tier 3</td>\n",
       "      <td>Grocery Store</td>\n",
       "      <td>732.3800</td>\n",
       "    </tr>\n",
       "    <tr>\n",
       "      <th>4</th>\n",
       "      <td>NCD19</td>\n",
       "      <td>8.93</td>\n",
       "      <td>Low Fat</td>\n",
       "      <td>0.000000</td>\n",
       "      <td>Household</td>\n",
       "      <td>53.8614</td>\n",
       "      <td>OUT013</td>\n",
       "      <td>1987</td>\n",
       "      <td>High</td>\n",
       "      <td>Tier 3</td>\n",
       "      <td>Supermarket Type1</td>\n",
       "      <td>994.7052</td>\n",
       "    </tr>\n",
       "  </tbody>\n",
       "</table>\n",
       "</div>"
      ],
      "text/plain": [
       "  Item_Identifier  Item_Weight Item_Fat_Content  Item_Visibility  \\\n",
       "0           FDA15         9.30          Low Fat         0.016047   \n",
       "1           DRC01         5.92          Regular         0.019278   \n",
       "2           FDN15        17.50          Low Fat         0.016760   \n",
       "3           FDX07        19.20          Regular         0.000000   \n",
       "4           NCD19         8.93          Low Fat         0.000000   \n",
       "\n",
       "               Item_Type  Item_MRP Outlet_Identifier  \\\n",
       "0                  Dairy  249.8092            OUT049   \n",
       "1            Soft Drinks   48.2692            OUT018   \n",
       "2                   Meat  141.6180            OUT049   \n",
       "3  Fruits and Vegetables  182.0950            OUT010   \n",
       "4              Household   53.8614            OUT013   \n",
       "\n",
       "   Outlet_Establishment_Year Outlet_Size Outlet_Location_Type  \\\n",
       "0                       1999      Medium               Tier 1   \n",
       "1                       2009      Medium               Tier 3   \n",
       "2                       1999      Medium               Tier 1   \n",
       "3                       1998         NaN               Tier 3   \n",
       "4                       1987        High               Tier 3   \n",
       "\n",
       "         Outlet_Type  Item_Outlet_Sales  \n",
       "0  Supermarket Type1          3735.1380  \n",
       "1  Supermarket Type2           443.4228  \n",
       "2  Supermarket Type1          2097.2700  \n",
       "3      Grocery Store           732.3800  \n",
       "4  Supermarket Type1           994.7052  "
      ]
     },
     "execution_count": 4,
     "metadata": {},
     "output_type": "execute_result"
    }
   ],
   "source": [
    "df.head()"
   ]
  },
  {
   "cell_type": "markdown",
   "metadata": {
    "heading_collapsed": true,
    "id": "MTb_Y32OuUpk"
   },
   "source": [
    "## Data Cleaning\n",
    "Dropping duplicates\n",
    "\n",
    "Fixing inconsistencies in categorical columns"
   ]
  },
  {
   "cell_type": "code",
   "execution_count": 5,
   "metadata": {
    "colab": {
     "base_uri": "https://localhost:8080/"
    },
    "hidden": true,
    "id": "FKNag_tuVUC6",
    "outputId": "1cb2708e-9dac-48aa-bd61-56e681c4602b"
   },
   "outputs": [
    {
     "data": {
      "text/plain": [
       "(8523, 12)"
      ]
     },
     "execution_count": 5,
     "metadata": {},
     "output_type": "execute_result"
    }
   ],
   "source": [
    "#number of rows and columns\n",
    "df.shape"
   ]
  },
  {
   "cell_type": "code",
   "execution_count": 6,
   "metadata": {
    "colab": {
     "base_uri": "https://localhost:8080/"
    },
    "hidden": true,
    "id": "4wIXLQ2VVWuo",
    "outputId": "87200587-ebea-43c2-899f-70598d5367a9"
   },
   "outputs": [
    {
     "data": {
      "text/plain": [
       "Item_Identifier               object\n",
       "Item_Weight                  float64\n",
       "Item_Fat_Content              object\n",
       "Item_Visibility              float64\n",
       "Item_Type                     object\n",
       "Item_MRP                     float64\n",
       "Outlet_Identifier             object\n",
       "Outlet_Establishment_Year      int64\n",
       "Outlet_Size                   object\n",
       "Outlet_Location_Type          object\n",
       "Outlet_Type                   object\n",
       "Item_Outlet_Sales            float64\n",
       "dtype: object"
      ]
     },
     "execution_count": 6,
     "metadata": {},
     "output_type": "execute_result"
    }
   ],
   "source": [
    "#Datatype for each variable\n",
    "df.dtypes"
   ]
  },
  {
   "cell_type": "code",
   "execution_count": 7,
   "metadata": {
    "colab": {
     "base_uri": "https://localhost:8080/"
    },
    "hidden": true,
    "id": "wbvMLAMkVZad",
    "outputId": "af44626d-097d-43e4-b39a-44b69faa3f59"
   },
   "outputs": [
    {
     "data": {
      "text/plain": [
       "0"
      ]
     },
     "execution_count": 7,
     "metadata": {},
     "output_type": "execute_result"
    }
   ],
   "source": [
    "#drop duplicates\n",
    "df.duplicated().sum()"
   ]
  },
  {
   "cell_type": "code",
   "execution_count": 8,
   "metadata": {
    "colab": {
     "base_uri": "https://localhost:8080/"
    },
    "hidden": true,
    "id": "LlKtzAMG9qy7",
    "outputId": "24d2e88e-664a-48ac-e4e6-89eb108e8ff9"
   },
   "outputs": [
    {
     "name": "stdout",
     "output_type": "stream",
     "text": [
      "Column: Item_Identifier\n",
      "FDW13    10\n",
      "FDG33    10\n",
      "NCY18     9\n",
      "FDD38     9\n",
      "DRE49     9\n",
      "         ..\n",
      "FDY43     1\n",
      "FDQ60     1\n",
      "FDO33     1\n",
      "DRF48     1\n",
      "FDC23     1\n",
      "Name: Item_Identifier, Length: 1559, dtype: int64\n",
      "Column: Item_Weight\n",
      "12.150    86\n",
      "17.600    82\n",
      "13.650    77\n",
      "11.800    76\n",
      "15.100    68\n",
      "          ..\n",
      "7.275      2\n",
      "7.685      1\n",
      "9.420      1\n",
      "6.520      1\n",
      "5.400      1\n",
      "Name: Item_Weight, Length: 415, dtype: int64\n",
      "Column: Item_Fat_Content\n",
      "Low Fat    5089\n",
      "Regular    2889\n",
      "LF          316\n",
      "reg         117\n",
      "low fat     112\n",
      "Name: Item_Fat_Content, dtype: int64\n",
      "Column: Item_Visibility\n",
      "0.000000    526\n",
      "0.076975      3\n",
      "0.162462      2\n",
      "0.076841      2\n",
      "0.073562      2\n",
      "           ... \n",
      "0.013957      1\n",
      "0.110460      1\n",
      "0.124646      1\n",
      "0.054142      1\n",
      "0.044878      1\n",
      "Name: Item_Visibility, Length: 7880, dtype: int64\n",
      "Column: Item_Type\n",
      "Fruits and Vegetables    1232\n",
      "Snack Foods              1200\n",
      "Household                 910\n",
      "Frozen Foods              856\n",
      "Dairy                     682\n",
      "Canned                    649\n",
      "Baking Goods              648\n",
      "Health and Hygiene        520\n",
      "Soft Drinks               445\n",
      "Meat                      425\n",
      "Breads                    251\n",
      "Hard Drinks               214\n",
      "Others                    169\n",
      "Starchy Foods             148\n",
      "Breakfast                 110\n",
      "Seafood                    64\n",
      "Name: Item_Type, dtype: int64\n",
      "Column: Item_MRP\n",
      "172.0422    7\n",
      "170.5422    6\n",
      "196.5084    6\n",
      "188.1872    6\n",
      "142.0154    6\n",
      "           ..\n",
      "97.3384     1\n",
      "83.1934     1\n",
      "96.6752     1\n",
      "152.6682    1\n",
      "75.4670     1\n",
      "Name: Item_MRP, Length: 5938, dtype: int64\n",
      "Column: Outlet_Identifier\n",
      "OUT027    935\n",
      "OUT013    932\n",
      "OUT049    930\n",
      "OUT046    930\n",
      "OUT035    930\n",
      "OUT045    929\n",
      "OUT018    928\n",
      "OUT017    926\n",
      "OUT010    555\n",
      "OUT019    528\n",
      "Name: Outlet_Identifier, dtype: int64\n",
      "Column: Outlet_Establishment_Year\n",
      "1985    1463\n",
      "1987     932\n",
      "1999     930\n",
      "1997     930\n",
      "2004     930\n",
      "2002     929\n",
      "2009     928\n",
      "2007     926\n",
      "1998     555\n",
      "Name: Outlet_Establishment_Year, dtype: int64\n",
      "Column: Outlet_Size\n",
      "Medium    2793\n",
      "Small     2388\n",
      "High       932\n",
      "Name: Outlet_Size, dtype: int64\n",
      "Column: Outlet_Location_Type\n",
      "Tier 3    3350\n",
      "Tier 2    2785\n",
      "Tier 1    2388\n",
      "Name: Outlet_Location_Type, dtype: int64\n",
      "Column: Outlet_Type\n",
      "Supermarket Type1    5577\n",
      "Grocery Store        1083\n",
      "Supermarket Type3     935\n",
      "Supermarket Type2     928\n",
      "Name: Outlet_Type, dtype: int64\n",
      "Column: Item_Outlet_Sales\n",
      "958.7520     17\n",
      "1342.2528    16\n",
      "703.0848     15\n",
      "1845.5976    15\n",
      "1278.3360    14\n",
      "             ..\n",
      "4124.6310     1\n",
      "6622.7126     1\n",
      "1614.5650     1\n",
      "5602.7070     1\n",
      "2778.3834     1\n",
      "Name: Item_Outlet_Sales, Length: 3493, dtype: int64\n"
     ]
    }
   ],
   "source": [
    "for row in df:\n",
    "  print(f\"Column: {row}\")\n",
    "  print(df[row].value_counts())"
   ]
  },
  {
   "cell_type": "code",
   "execution_count": 9,
   "metadata": {
    "colab": {
     "base_uri": "https://localhost:8080/"
    },
    "hidden": true,
    "id": "X5K0lhJaVmM2",
    "outputId": "c66e876c-861a-4b11-f5bb-f0b800445a07"
   },
   "outputs": [
    {
     "data": {
      "text/plain": [
       "Low Fat    5089\n",
       "Regular    2889\n",
       "LF          316\n",
       "reg         117\n",
       "low fat     112\n",
       "Name: Item_Fat_Content, dtype: int64"
      ]
     },
     "execution_count": 9,
     "metadata": {},
     "output_type": "execute_result"
    }
   ],
   "source": [
    "# Only categorical column that needs fixing is Item_Fat_Content\n",
    "df[\"Item_Fat_Content\"].value_counts()"
   ]
  },
  {
   "cell_type": "code",
   "execution_count": 10,
   "metadata": {
    "colab": {
     "base_uri": "https://localhost:8080/"
    },
    "hidden": true,
    "id": "8z-fS02r9nOr",
    "outputId": "f59e4b4d-2773-4fc5-8261-5a8bb34e4c5f"
   },
   "outputs": [
    {
     "data": {
      "text/plain": [
       "Low Fat    5517\n",
       "Regular    3006\n",
       "Name: Item_Fat_Content, dtype: int64"
      ]
     },
     "execution_count": 10,
     "metadata": {},
     "output_type": "execute_result"
    }
   ],
   "source": [
    "#Fixing Item Fat Content to Low Fat and Regular Values\n",
    "replacements = {\"LF\": \"Low Fat\",\n",
    "                \"low fat\": \"Low Fat\",\n",
    "                \"reg\": \"Regular\"}\n",
    "df[\"Item_Fat_Content\"] = df[\"Item_Fat_Content\"].replace(replacements)\n",
    "df[\"Item_Fat_Content\"].value_counts()"
   ]
  },
  {
   "cell_type": "code",
   "execution_count": 11,
   "metadata": {
    "colab": {
     "base_uri": "https://localhost:8080/",
     "height": 0
    },
    "hidden": true,
    "id": "FHg1be3z_cWi",
    "outputId": "44b6b119-1e2b-4229-a197-20e1c6b5a1fa"
   },
   "outputs": [
    {
     "data": {
      "text/html": [
       "<div>\n",
       "<style scoped>\n",
       "    .dataframe tbody tr th:only-of-type {\n",
       "        vertical-align: middle;\n",
       "    }\n",
       "\n",
       "    .dataframe tbody tr th {\n",
       "        vertical-align: top;\n",
       "    }\n",
       "\n",
       "    .dataframe thead th {\n",
       "        text-align: right;\n",
       "    }\n",
       "</style>\n",
       "<table border=\"1\" class=\"dataframe\">\n",
       "  <thead>\n",
       "    <tr style=\"text-align: right;\">\n",
       "      <th></th>\n",
       "      <th>Item_Weight</th>\n",
       "      <th>Item_Visibility</th>\n",
       "      <th>Item_MRP</th>\n",
       "      <th>Outlet_Establishment_Year</th>\n",
       "      <th>Item_Outlet_Sales</th>\n",
       "    </tr>\n",
       "  </thead>\n",
       "  <tbody>\n",
       "    <tr>\n",
       "      <th>min</th>\n",
       "      <td>4.555000</td>\n",
       "      <td>0.000000</td>\n",
       "      <td>31.290000</td>\n",
       "      <td>1985.000000</td>\n",
       "      <td>33.290000</td>\n",
       "    </tr>\n",
       "    <tr>\n",
       "      <th>max</th>\n",
       "      <td>21.350000</td>\n",
       "      <td>0.328391</td>\n",
       "      <td>266.888400</td>\n",
       "      <td>2009.000000</td>\n",
       "      <td>13086.964800</td>\n",
       "    </tr>\n",
       "    <tr>\n",
       "      <th>mean</th>\n",
       "      <td>12.857645</td>\n",
       "      <td>0.066132</td>\n",
       "      <td>140.992782</td>\n",
       "      <td>1997.831867</td>\n",
       "      <td>2181.288914</td>\n",
       "    </tr>\n",
       "  </tbody>\n",
       "</table>\n",
       "</div>"
      ],
      "text/plain": [
       "      Item_Weight  Item_Visibility    Item_MRP  Outlet_Establishment_Year  \\\n",
       "min      4.555000         0.000000   31.290000                1985.000000   \n",
       "max     21.350000         0.328391  266.888400                2009.000000   \n",
       "mean    12.857645         0.066132  140.992782                1997.831867   \n",
       "\n",
       "      Item_Outlet_Sales  \n",
       "min           33.290000  \n",
       "max        13086.964800  \n",
       "mean        2181.288914  "
      ]
     },
     "execution_count": 11,
     "metadata": {},
     "output_type": "execute_result"
    }
   ],
   "source": [
    "#Obtaining the summary statistics of all numerical columns\n",
    "df.describe().loc[[\"min\", \"max\", \"mean\"]]"
   ]
  },
  {
   "cell_type": "markdown",
   "metadata": {
    "heading_collapsed": true,
    "id": "R0nefUR8_Qxn"
   },
   "source": [
    "## Pre-Processing for ML\n",
    "\n",
    "An aside regarding what might be considered ordinal columns (Outlet_Establishment_Year, Outlet_Size, Outlet_Location_Type): \n",
    "\n",
    "* I am choosing to utilize Outlet_Establishment_Year as a nominal column at the moment, changing the int datatypes to string datatypes. I feel this better reflects the years as categories rather than numbers for the model to utilize.\n",
    "\n",
    "* After talking with Yvon Bilodeau, I was informed that Outlet_Location_Type and Outlet_Size did not seem to have a correlation with Item_Outlet_Sales. This will further be expanded upon in a \"Food_Sales_Analysis\" update at some point in the future to corrobrate this."
   ]
  },
  {
   "cell_type": "code",
   "execution_count": 12,
   "metadata": {
    "colab": {
     "base_uri": "https://localhost:8080/"
    },
    "hidden": true,
    "id": "Qaa3fsOyomWV",
    "outputId": "16888c1b-fd37-4336-ebdd-0d0541072f67"
   },
   "outputs": [
    {
     "name": "stdout",
     "output_type": "stream",
     "text": [
      "1985    1463\n",
      "1987     932\n",
      "1999     930\n",
      "1997     930\n",
      "2004     930\n",
      "2002     929\n",
      "2009     928\n",
      "2007     926\n",
      "1998     555\n",
      "Name: Outlet_Establishment_Year, dtype: int64\n",
      "0\n"
     ]
    }
   ],
   "source": [
    "print(df[\"Outlet_Establishment_Year\"].value_counts())\n",
    "print(df[\"Outlet_Establishment_Year\"].isna().sum())"
   ]
  },
  {
   "cell_type": "code",
   "execution_count": 13,
   "metadata": {
    "hidden": true,
    "id": "HOAkb_0WuybJ"
   },
   "outputs": [],
   "source": [
    "year_replacement_dict = {}\n",
    "for i in range (1985, 2010):\n",
    "  year_replacement_dict[i] = str(i)\n",
    "year_replacement_dict\n",
    "df[\"Outlet_Establishment_Year\"].replace(year_replacement_dict, inplace = True)"
   ]
  },
  {
   "cell_type": "code",
   "execution_count": 14,
   "metadata": {
    "colab": {
     "base_uri": "https://localhost:8080/"
    },
    "hidden": true,
    "id": "-kmrO_q6o6n7",
    "outputId": "2add5ac5-4950-4b76-d041-dfbd8bef7730"
   },
   "outputs": [
    {
     "name": "stdout",
     "output_type": "stream",
     "text": [
      "Medium    2793\n",
      "Small     2388\n",
      "High       932\n",
      "Name: Outlet_Size, dtype: int64\n",
      "2410\n"
     ]
    }
   ],
   "source": [
    "print(df[\"Outlet_Size\"].value_counts())\n",
    "print(df[\"Outlet_Size\"].isna().sum())"
   ]
  },
  {
   "cell_type": "code",
   "execution_count": 15,
   "metadata": {
    "colab": {
     "base_uri": "https://localhost:8080/"
    },
    "hidden": true,
    "id": "qWp-G3BQwfKf",
    "outputId": "b281e377-7655-4dac-a6a5-c59897f1781c"
   },
   "outputs": [
    {
     "data": {
      "text/plain": [
       "Medium     2793\n",
       "Missing    2410\n",
       "Small      2388\n",
       "High        932\n",
       "Name: Outlet_Size, dtype: int64"
      ]
     },
     "execution_count": 15,
     "metadata": {},
     "output_type": "execute_result"
    }
   ],
   "source": [
    "df[\"Outlet_Size\"].fillna(\"Missing\", inplace=True)\n",
    "df[\"Outlet_Size\"].value_counts()"
   ]
  },
  {
   "cell_type": "markdown",
   "metadata": {
    "hidden": true,
    "id": "eskSwCKO_fvw"
   },
   "source": [
    "### Feature and Target Identification"
   ]
  },
  {
   "cell_type": "code",
   "execution_count": 16,
   "metadata": {
    "hidden": true,
    "id": "n9caLFGs_kO0"
   },
   "outputs": [],
   "source": [
    "#Assign the \"Item_Outlet_Sales\" column as your target and the rest of the relevant \n",
    "#variables as your features matrix.\n",
    "y = df[\"Item_Outlet_Sales\"]\n",
    "X = df.drop(columns = \"Item_Outlet_Sales\")"
   ]
  },
  {
   "cell_type": "code",
   "execution_count": 17,
   "metadata": {
    "hidden": true,
    "id": "4iGUvjyE_qjn"
   },
   "outputs": [],
   "source": [
    "#Perform a train test split\n",
    "X_train, X_test, y_train, y_test = train_test_split(X, y, random_state=42)"
   ]
  },
  {
   "cell_type": "markdown",
   "metadata": {
    "hidden": true,
    "id": "YDEp69tw_u4h"
   },
   "source": [
    "### Preprocessing objects"
   ]
  },
  {
   "cell_type": "code",
   "execution_count": 18,
   "metadata": {
    "hidden": true,
    "id": "mMFvwN07mLyz"
   },
   "outputs": [],
   "source": [
    "#imputers\n",
    "freq_imputer = SimpleImputer(strategy= \"most_frequent\")\n",
    "mean_imputer = SimpleImputer(strategy= \"mean\")\n",
    "\n",
    "#selectors\n",
    "cat_selector = make_column_selector(dtype_include='object')\n",
    "#cat_selector = [\"Item_Identifier\", \"Item_Fat_Content\", \"Item_Type\", \"Outlet_Identifier\", \"Outlet_Establishment_Year\",\n",
    "#                \"Outlet_Size\", \"Outlet_Location_Type\", \"Outlet_Type\"]\n",
    "num_selector = make_column_selector(dtype_include='number')\n",
    "#num_selector = [\"Item_Weight\", \"Item_Visibility\", \"Item_MRP\"]\n",
    "\n",
    "#scaler and one hot encoder\n",
    "scaler = StandardScaler()\n",
    "ohe = OneHotEncoder(sparse = \"False\", handle_unknown = \"ignore\")"
   ]
  },
  {
   "cell_type": "code",
   "execution_count": 19,
   "metadata": {
    "hidden": true,
    "id": "xurzkzORyl41"
   },
   "outputs": [],
   "source": [
    "numeric_pipe = make_pipeline(mean_imputer, scaler)\n",
    "categorical_pipe = make_pipeline(freq_imputer, ohe)"
   ]
  },
  {
   "cell_type": "code",
   "execution_count": 20,
   "metadata": {
    "hidden": true,
    "id": "RJIWsTObymnA"
   },
   "outputs": [],
   "source": [
    "number_tuple = (numeric_pipe, num_selector)\n",
    "category_tuple = (categorical_pipe, cat_selector)\n",
    "\n",
    "preprocessor = make_column_transformer(number_tuple, category_tuple, remainder = \"passthrough\")"
   ]
  },
  {
   "cell_type": "code",
   "execution_count": 21,
   "metadata": {
    "hidden": true,
    "id": "IxpfPcCSyqCZ"
   },
   "outputs": [],
   "source": [
    "preprocessor.fit(X_train)\n",
    "\n",
    "X_train_processed = preprocessor.transform(X_train)\n",
    "X_test_processed = preprocessor.transform(X_test)"
   ]
  },
  {
   "cell_type": "markdown",
   "metadata": {
    "id": "YExWNrDd3cHK"
   },
   "source": [
    "## Regressions\n",
    "\n",
    "1. Linear Regression Model\n",
    "2. Regression Tree Model\n",
    "3. Keras Deep Learning Model\n",
    "\n",
    "For all regresions, evaluate performance based off of r^2 and RMSE. "
   ]
  },
  {
   "cell_type": "markdown",
   "metadata": {
    "id": "2OyxsrNb3yh6"
   },
   "source": [
    "### LINEAR REGRESSION MODEL\n",
    "\n",
    "Evaluate the performance of your model based on r^2 and RMSE "
   ]
  },
  {
   "cell_type": "code",
   "execution_count": 22,
   "metadata": {
    "id": "zoU-F7MF3w-e"
   },
   "outputs": [],
   "source": [
    "#Creating Regressor instance\n",
    "reg = LinearRegression()\n",
    "\n",
    "#Creating Pipeline from preprocessor to regressor instance\n",
    "linreg_pipe = make_pipeline(preprocessor, reg)\n",
    "\n",
    "# Fit the model pipeline on the training data\n",
    "linreg_pipe.fit(X_train, y_train)\n",
    "# Make predictions using the training and testing data\n",
    "training_predictions = linreg_pipe.predict(X_train)\n",
    "test_predictions = linreg_pipe.predict(X_test)"
   ]
  },
  {
   "cell_type": "code",
   "execution_count": 23,
   "metadata": {
    "colab": {
     "base_uri": "https://localhost:8080/"
    },
    "id": "l0_tHkMO5HEd",
    "outputId": "4a8f7ad1-d89e-4597-e39e-dc838c71594f"
   },
   "outputs": [
    {
     "name": "stdout",
     "output_type": "stream",
     "text": [
      "Model Training predictions r^2 = 0.6716977843610916\n",
      "Model Testing predictions r^2 = 0.3833535271746904\n",
      "Model Training predictions RMSE = 985.6956248666603\n",
      "Model Testing predictions RMSE = 1304.344131405172\n"
     ]
    }
   ],
   "source": [
    "#Evaluating the performance of the model via r^2\n",
    "train_r2 = r2_score(y_train, training_predictions)\n",
    "test_r2 = r2_score(y_test, test_predictions)\n",
    "\n",
    "print(f\"Model Training predictions r^2 = {train_r2}\")\n",
    "print(f\"Model Testing predictions r^2 = {test_r2}\")\n",
    "\n",
    "#Evalating the performance of the model via RMSE\n",
    "train_RMSE = np.sqrt(mean_squared_error(y_train, training_predictions))\n",
    "test_RMSE = np.sqrt(mean_squared_error(y_test, test_predictions))\n",
    "\n",
    "print(f\"Model Training predictions RMSE = {train_RMSE}\")\n",
    "print(f\"Model Testing predictions RMSE = {test_RMSE}\")"
   ]
  },
  {
   "cell_type": "markdown",
   "metadata": {
    "id": "3GZUtH_o5-ap"
   },
   "source": [
    "### REGRESSION TREE MODEL\n",
    "\n",
    "Evaluate the performance of your model based on r^2 and RMSE"
   ]
  },
  {
   "cell_type": "code",
   "execution_count": 24,
   "metadata": {
    "colab": {
     "base_uri": "https://localhost:8080/"
    },
    "id": "JcZrDjfX6IqA",
    "outputId": "8648ccfb-c852-45a5-ae62-d716a5360b29"
   },
   "outputs": [
    {
     "name": "stdout",
     "output_type": "stream",
     "text": [
      "1.0\n",
      "0.22903252442752497\n"
     ]
    }
   ],
   "source": [
    "#model instance\n",
    "dec_tree = DecisionTreeRegressor(random_state = 42)\n",
    "\n",
    "#fitting the model\n",
    "dec_tree.fit(X_train_processed, y_train)\n",
    "\n",
    "#prediction values\n",
    "dec_train_preds = dec_tree.predict(X_train_processed)\n",
    "dec_test_preds = dec_tree.predict(X_test_processed)\n",
    "\n",
    "#model evaluation\n",
    "dec_train_score = dec_tree.score(X_train_processed, y_train)\n",
    "dec_test_score = dec_tree.score(X_test_processed, y_test)\n",
    "print(dec_train_score)\n",
    "print(dec_test_score)"
   ]
  },
  {
   "cell_type": "code",
   "execution_count": 25,
   "metadata": {
    "colab": {
     "base_uri": "https://localhost:8080/",
     "height": 206
    },
    "id": "Czo5ZlujC4Dd",
    "outputId": "4e5ce441-76bc-4176-faf0-47a513e55a9b"
   },
   "outputs": [
    {
     "data": {
      "text/html": [
       "<div>\n",
       "<style scoped>\n",
       "    .dataframe tbody tr th:only-of-type {\n",
       "        vertical-align: middle;\n",
       "    }\n",
       "\n",
       "    .dataframe tbody tr th {\n",
       "        vertical-align: top;\n",
       "    }\n",
       "\n",
       "    .dataframe thead th {\n",
       "        text-align: right;\n",
       "    }\n",
       "</style>\n",
       "<table border=\"1\" class=\"dataframe\">\n",
       "  <thead>\n",
       "    <tr style=\"text-align: right;\">\n",
       "      <th></th>\n",
       "      <th>Test Score</th>\n",
       "      <th>Train Score</th>\n",
       "    </tr>\n",
       "  </thead>\n",
       "  <tbody>\n",
       "    <tr>\n",
       "      <th>5</th>\n",
       "      <td>0.596056</td>\n",
       "      <td>0.604207</td>\n",
       "    </tr>\n",
       "    <tr>\n",
       "      <th>6</th>\n",
       "      <td>0.584668</td>\n",
       "      <td>0.615702</td>\n",
       "    </tr>\n",
       "    <tr>\n",
       "      <th>4</th>\n",
       "      <td>0.583937</td>\n",
       "      <td>0.582705</td>\n",
       "    </tr>\n",
       "    <tr>\n",
       "      <th>7</th>\n",
       "      <td>0.577712</td>\n",
       "      <td>0.629269</td>\n",
       "    </tr>\n",
       "    <tr>\n",
       "      <th>8</th>\n",
       "      <td>0.559441</td>\n",
       "      <td>0.641334</td>\n",
       "    </tr>\n",
       "  </tbody>\n",
       "</table>\n",
       "</div>"
      ],
      "text/plain": [
       "  Test Score Train Score\n",
       "5   0.596056    0.604207\n",
       "6   0.584668    0.615702\n",
       "4   0.583937    0.582705\n",
       "7   0.577712    0.629269\n",
       "8   0.559441    0.641334"
      ]
     },
     "execution_count": 25,
     "metadata": {},
     "output_type": "execute_result"
    }
   ],
   "source": [
    "#Decision Tree Tuning\n",
    "depth = dec_tree.get_depth()\n",
    "# List of values to try for max_depth:\n",
    "depths = list(range(1, depth))\n",
    "# Data frame to store the score for each value of max_depth:\n",
    "scores = pd.DataFrame(index=depths, columns=['Test Score','Train Score'])\n",
    "for depth in depths:\n",
    "    dec_tree = DecisionTreeRegressor(max_depth=depth, random_state=42)\n",
    "    dec_tree.fit(X_train_processed, y_train)\n",
    "    train_score = dec_tree.score(X_train_processed, y_train)\n",
    "    test_score = dec_tree.score(X_test_processed, y_test)\n",
    "    scores.loc[depth, 'Train Score'] = train_score\n",
    "    scores.loc[depth, 'Test Score'] = test_score\n",
    "\n",
    "sorted_scores = scores.sort_values(by='Test Score', ascending=False)\n",
    "sorted_scores.head()"
   ]
  },
  {
   "cell_type": "code",
   "execution_count": 26,
   "metadata": {
    "colab": {
     "base_uri": "https://localhost:8080/"
    },
    "id": "0RnrcyPWDefs",
    "outputId": "beb1bdf9-236b-4afc-b1ee-ee5ae66d28e2",
    "scrolled": true
   },
   "outputs": [
    {
     "name": "stdout",
     "output_type": "stream",
     "text": [
      "Model Training predictions r^2 = 0.6716977843610916\n",
      "Model Testing predictions r^2 = 0.3833535271746904\n",
      "Model Training predictions RMSE = 1082.281287111312\n",
      "Model Testing predictions RMSE = 1055.6851402178304\n"
     ]
    }
   ],
   "source": [
    "#Decision Tree Tuning 2; optimal depth = 5\n",
    "optimal_depth = 5\n",
    "\n",
    "dec_tree_opt = DecisionTreeRegressor(max_depth = optimal_depth, random_state = 42)\n",
    "dec_tree_opt.fit(X_train_processed, y_train)\n",
    "\n",
    "#Evaluating the performance of the model via r^2\n",
    "dec_tree_r2_train = r2_score(y_train, dec_tree_opt.predict(X_train_processed))\n",
    "dec_tree_r2_test = r2_score(y_test, dec_tree_opt.predict(X_test_processed))\n",
    "\n",
    "print(f\"Model Training predictions r^2 = {train_r2}\")\n",
    "print(f\"Model Testing predictions r^2 = {test_r2}\")\n",
    "\n",
    "#Evalating the performance of the model via RMSE\n",
    "train_RMSE = np.sqrt(mean_squared_error(y_train, dec_tree_opt.predict(X_train_processed)))\n",
    "test_RMSE = np.sqrt(mean_squared_error(y_test, dec_tree_opt.predict(X_test_processed)))\n",
    "\n",
    "print(f\"Model Training predictions RMSE = {train_RMSE}\")\n",
    "print(f\"Model Testing predictions RMSE = {test_RMSE}\")"
   ]
  },
  {
   "cell_type": "markdown",
   "metadata": {},
   "source": [
    "### Keras Deep Learning Model"
   ]
  },
  {
   "cell_type": "code",
   "execution_count": 27,
   "metadata": {},
   "outputs": [],
   "source": [
    "# Learning history plotting function\n",
    "def plot_history(history):\n",
    "  \"\"\"Takes a keras model learning history and plots each metric\"\"\"\n",
    "  metrics = history.history.keys()\n",
    "  for metric in metrics:\n",
    "      if not 'val' in metric:\n",
    "        plt.plot(history.history[f'{metric}'], label=f'{metric}')\n",
    "        if f'val_{metric}' in metrics:\n",
    "          plt.plot(history.history[f'val_{metric}'], label=f'val_{metric}')\n",
    "        plt.legend()\n",
    "        plt.title(f'{metric}')\n",
    "        plt.show()"
   ]
  },
  {
   "cell_type": "code",
   "execution_count": 28,
   "metadata": {
    "scrolled": true
   },
   "outputs": [
    {
     "name": "stdout",
     "output_type": "stream",
     "text": [
      "Model: \"sequential\"\n",
      "_________________________________________________________________\n",
      " Layer (type)                Output Shape              Param #   \n",
      "=================================================================\n",
      " dense (Dense)               (None, 10)                16020     \n",
      "                                                                 \n",
      " dense_1 (Dense)             (None, 10)                110       \n",
      "                                                                 \n",
      " dense_2 (Dense)             (None, 1)                 11        \n",
      "                                                                 \n",
      "=================================================================\n",
      "Total params: 16,141\n",
      "Trainable params: 16,141\n",
      "Non-trainable params: 0\n",
      "_________________________________________________________________\n"
     ]
    },
    {
     "name": "stderr",
     "output_type": "stream",
     "text": [
      "2023-04-20 02:33:53.539889: I tensorflow/core/platform/cpu_feature_guard.cc:193] This TensorFlow binary is optimized with oneAPI Deep Neural Network Library (oneDNN) to use the following CPU instructions in performance-critical operations:  AVX2 FMA\n",
      "To enable them in other operations, rebuild TensorFlow with the appropriate compiler flags.\n"
     ]
    }
   ],
   "source": [
    "# create model architecture\n",
    "input_shape = X_train_processed.shape[1]\n",
    " \n",
    "reg_model = Sequential()\n",
    " \n",
    "reg_model.add(Dense(10, input_dim=input_shape, activation='relu'))\n",
    "reg_model.add(Dense(10, activation='relu'))\n",
    "reg_model.add(Dense(1, activation='linear'))\n",
    " \n",
    "reg_model.summary()"
   ]
  },
  {
   "cell_type": "code",
   "execution_count": 29,
   "metadata": {},
   "outputs": [],
   "source": [
    "# compile model with additional metrics \n",
    "reg_model.compile(loss='mse',\n",
    "                  optimizer='adam',\n",
    "                  metrics=[metrics.RootMeanSquaredError()])"
   ]
  },
  {
   "cell_type": "code",
   "execution_count": 30,
   "metadata": {},
   "outputs": [],
   "source": [
    "X_train_array = X_train_processed.toarray()\n",
    "X_test_array = X_test_processed.toarray()\n",
    "\n",
    "history = reg_model.fit(X_train_array, y_train,\n",
    "                        validation_data = (X_test_array, y_test),\n",
    "                        epochs=100,\n",
    "                        verbose=0)"
   ]
  },
  {
   "cell_type": "code",
   "execution_count": 31,
   "metadata": {
    "scrolled": true
   },
   "outputs": [
    {
     "data": {
      "image/png": "[encoded data removed]",
      "text/plain": [
       "<Figure size 640x480 with 1 Axes>"
      ]
     },
     "metadata": {},
     "output_type": "display_data"
    },
    {
     "data": {
      "image/png": "[encoded data removed]",
      "text/plain": [
       "<Figure size 640x480 with 1 Axes>"
      ]
     },
     "metadata": {},
     "output_type": "display_data"
    }
   ],
   "source": [
    "# plot learning\n",
    "plot_history(history)"
   ]
  },
  {
   "cell_type": "code",
   "execution_count": 32,
   "metadata": {},
   "outputs": [
    {
     "ename": "NameError",
     "evalue": "name 'y_pred' is not defined",
     "output_type": "error",
     "traceback": [
      "\u001b[0;31m---------------------------------------------------------------------------\u001b[0m",
      "\u001b[0;31mNameError\u001b[0m                                 Traceback (most recent call last)",
      "Cell \u001b[0;32mIn [32], line 1\u001b[0m\n\u001b[0;32m----> 1\u001b[0m base_RMSE \u001b[38;5;241m=\u001b[39m np\u001b[38;5;241m.\u001b[39msqrt(mean_squared_error(y_test, \u001b[43my_pred\u001b[49m))\n",
      "\u001b[0;31mNameError\u001b[0m: name 'y_pred' is not defined"
     ]
    }
   ],
   "source": [
    "base_RMSE = np.sqrt(mean_squared_error(y_test, y_pred))"
   ]
  },
  {
   "cell_type": "code",
   "execution_count": null,
   "metadata": {},
   "outputs": [],
   "source": [
    "# evaluate model\n",
    " \n",
    "y_pred = reg_model.predict(X_test_array)\n",
    " \n",
    "print(f'final RMSE: {np.sqrt(mean_squared_error(y_test, y_pred))}')\n",
    "print(f'final R2: {r2_score(y_test, y_pred)}')"
   ]
  },
  {
   "cell_type": "markdown",
   "metadata": {
    "id": "9uDLPMmVFnqb"
   },
   "source": [
    "## Which model to use?\n",
    "\n",
    "\n",
    "<center>Linear Regression:</center>\n",
    "\n",
    "|                | r^2                 | RMSE               |\n",
    "|----------------|---------------------|--------------------|\n",
    "| Model Training | 0.6716977904733816  | 985.6956156908806  |\n",
    "| Model Testing  | 0.38335523332222055 | 1304.3423269636032 |\n",
    "\n",
    "<center> Decision Tree:</center>\n",
    "\n",
    "|                | r^2                 | RMSE               |\n",
    "|----------------|---------------------|--------------------|\n",
    "| Model Training | 0.6716977904733816  | 1082.281287111312  |\n",
    "| Model Testing  | 0.38335523332222055 | 1055.6851402178304 |\n",
    "\n",
    "Keras TensorFlow:\n",
    "\n",
    "Model Testing r^2:  0.5441030783172758\n",
    "\n",
    "Model Testing RMSE: 1121.5209549997742"
   ]
  },
  {
   "cell_type": "markdown",
   "metadata": {
    "id": "86Icwa1zF6O2"
   },
   "source": [
    "The r^2 values for both the linear regression and the decision tree are the same. The r^2 value for the tensorflow though was lower, so we can eliminate that model for use.The RMSE values for the Linear Regression and Decision tree are different. Because the RMSE for the test on the decision tree is lower than the RMSE for the test on the regression, I recommend the Decision Tree in order to avoid larger errors."
   ]
  }
 ],
 "metadata": {
  "colab": {
   "authorship_tag": "ABX9TyMoRc/SiNWc5U3ekNzep+ad",
   "include_colab_link": true,
   "provenance": []
  },
  "kernelspec": {
   "display_name": "Python 3 (ipykernel)",
   "language": "python",
   "name": "python3"
  },
  "language_info": {
   "codemirror_mode": {
    "name": "ipython",
    "version": 3
   },
   "file_extension": ".py",
   "mimetype": "text/x-python",
   "name": "python",
   "nbconvert_exporter": "python",
   "pygments_lexer": "ipython3",
   "version": "3.9.15"
  },
  "toc": {
   "base_numbering": 1,
   "nav_menu": {},
   "number_sections": false,
   "sideBar": true,
   "skip_h1_title": false,
   "title_cell": "Table of Contents",
   "title_sidebar": "Contents",
   "toc_cell": false,
   "toc_position": {},
   "toc_section_display": true,
   "toc_window_display": false
  }
 },
 "nbformat": 4,
 "nbformat_minor": 1
}
